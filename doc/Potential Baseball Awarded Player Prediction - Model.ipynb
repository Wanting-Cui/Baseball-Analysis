{
 "cells": [
  {
   "cell_type": "markdown",
   "metadata": {},
   "source": [
    "# Potential Baseball Awarded Player Prediction - Data Preprocessing"
   ]
  },
  {
   "cell_type": "code",
   "execution_count": 1,
   "metadata": {
    "collapsed": true
   },
   "outputs": [],
   "source": [
    "import pandas as pd\n",
    "from datetime import datetime\n",
    "import numpy as np\n",
    "import matplotlib.pyplot as plt \n",
    "import seaborn as sns\n",
    "from sklearn.preprocessing import scale\n",
    "from sklearn.model_selection import train_test_split\n",
    "from sklearn.linear_model import LogisticRegression\n",
    "from sklearn import metrics\n",
    "from sklearn.metrics import confusion_matrix\n",
    "from sklearn.metrics import classification_report\n",
    "from sklearn.model_selection import GridSearchCV\n",
    "from sklearn.ensemble import RandomForestClassifier"
   ]
  },
  {
   "cell_type": "code",
   "execution_count": 2,
   "metadata": {
    "collapsed": true
   },
   "outputs": [],
   "source": [
    "# importing data\n",
    "master_df = pd.read_csv('../input/baseballdatabank-master/core/People.csv',usecols=['playerID','nameFirst','nameLast','bats','throws','debut','finalGame'])\n",
    "fielding_df = pd.read_csv('../input/baseballdatabank-master/core/Fielding.csv',usecols=['playerID','yearID','stint','teamID','lgID','POS','G','GS','InnOuts','PO','A','E','DP'])\n",
    "batting_df = pd.read_csv('../input/baseballdatabank-master/core/Batting.csv')\n",
    "awards_df = pd.read_csv('../input/baseballdatabank-master/core/AwardsPlayers.csv', usecols=['playerID','awardID','yearID'])\n",
    "allstar_df = pd.read_csv('../input/baseballdatabank-master/core/AllstarFull.csv', usecols=['playerID','yearID'])\n",
    "hof_df = pd.read_csv('../input/baseballdatabank-master/core/HallOfFame.csv',usecols=['playerID','yearid','votedBy','needed_note','inducted','category'])\n",
    "appearances_df = pd.read_csv('../input/baseballdatabank-master/core/Appearances.csv')\n",
    "salary_df = pd.read_csv('../input/baseballdatabank-master/core/Salaries.csv')"
   ]
  },
  {
   "cell_type": "code",
   "execution_count": 3,
   "metadata": {},
   "outputs": [
    {
     "data": {
      "text/plain": [
       "(104324, 22)"
      ]
     },
     "execution_count": 3,
     "metadata": {},
     "output_type": "execute_result"
    }
   ],
   "source": [
    "# df size\n",
    "batting_df.shape"
   ]
  },
  {
   "cell_type": "code",
   "execution_count": 4,
   "metadata": {},
   "outputs": [
    {
     "data": {
      "text/plain": [
       "19182"
      ]
     },
     "execution_count": 4,
     "metadata": {},
     "output_type": "execute_result"
    }
   ],
   "source": [
    "# unique player ID\n",
    "batting_df['playerID'].nunique()"
   ]
  },
  {
   "cell_type": "code",
   "execution_count": 5,
   "metadata": {
    "collapsed": true
   },
   "outputs": [],
   "source": [
    "# Batting Table\n",
    "# Initialize dictionaries for player stats and years played\n",
    "player_stats = {}\n",
    "years_played = {}"
   ]
  },
  {
   "cell_type": "code",
   "execution_count": 6,
   "metadata": {},
   "outputs": [
    {
     "data": {
      "text/plain": [
       "Index(['playerID', 'yearID', 'stint', 'teamID', 'lgID', 'G', 'AB', 'R', 'H',\n",
       "       '2B', '3B', 'HR', 'RBI', 'SB', 'CS', 'BB', 'SO', 'IBB', 'HBP', 'SH',\n",
       "       'SF', 'GIDP'],\n",
       "      dtype='object')"
      ]
     },
     "execution_count": 6,
     "metadata": {},
     "output_type": "execute_result"
    }
   ],
   "source": [
    "# print all the columns names\n",
    "batting_df.columns"
   ]
  },
  {
   "cell_type": "code",
   "execution_count": 7,
   "metadata": {
    "collapsed": true
   },
   "outputs": [],
   "source": [
    "# Create dictionaries for player stats and years played from `batting_df`\n",
    "for i, row in batting_df.iterrows():\n",
    "    playerID = row['playerID']\n",
    "    if playerID in player_stats:\n",
    "        player_stats[playerID]['G'] = player_stats[playerID]['G'] + row['G']\n",
    "        player_stats[playerID]['AB'] = player_stats[playerID]['AB'] + row['AB']\n",
    "        player_stats[playerID]['R'] = player_stats[playerID]['R'] + row['R']\n",
    "        player_stats[playerID]['H'] = player_stats[playerID]['H'] + row['H']\n",
    "        player_stats[playerID]['2B'] = player_stats[playerID]['2B'] + row['2B']\n",
    "        player_stats[playerID]['3B'] = player_stats[playerID]['3B'] + row['3B']\n",
    "        player_stats[playerID]['HR'] = player_stats[playerID]['HR'] + row['HR']\n",
    "        player_stats[playerID]['RBI'] = player_stats[playerID]['RBI'] + row['RBI']\n",
    "        player_stats[playerID]['SB'] = player_stats[playerID]['SB'] + row['SB']\n",
    "        player_stats[playerID]['BB'] = player_stats[playerID]['BB'] + row['BB']\n",
    "        player_stats[playerID]['SO'] = player_stats[playerID]['SO'] + row['SO']\n",
    "        player_stats[playerID]['IBB'] = player_stats[playerID]['IBB'] + row['IBB']\n",
    "        player_stats[playerID]['HBP'] = player_stats[playerID]['HBP'] + row['HBP']\n",
    "        player_stats[playerID]['SH'] = player_stats[playerID]['SH'] + row['SH']\n",
    "        player_stats[playerID]['SF'] = player_stats[playerID]['SF'] + row['SF']\n",
    "        years_played[playerID].append(row['yearID'])\n",
    "    else:\n",
    "        player_stats[playerID] = {}\n",
    "        player_stats[playerID]['G'] = row['G']\n",
    "        player_stats[playerID]['AB'] = row['AB']\n",
    "        player_stats[playerID]['R'] = row['R']\n",
    "        player_stats[playerID]['H'] = row['H']\n",
    "        player_stats[playerID]['2B'] = row['2B']\n",
    "        player_stats[playerID]['3B'] = row['3B']\n",
    "        player_stats[playerID]['HR'] = row['HR']\n",
    "        player_stats[playerID]['RBI'] = row['RBI']\n",
    "        player_stats[playerID]['SB'] = row['SB']\n",
    "        player_stats[playerID]['BB'] = row['BB']\n",
    "        player_stats[playerID]['SO'] = row['SO']\n",
    "        player_stats[playerID]['IBB'] = row['IBB']\n",
    "        player_stats[playerID]['HBP'] = row['HBP']\n",
    "        player_stats[playerID]['SH'] = row['SH']\n",
    "        player_stats[playerID]['SF'] = row['SF']\n",
    "        years_played[playerID] = []\n",
    "        years_played[playerID].append(row['yearID'])"
   ]
  },
  {
   "cell_type": "code",
   "execution_count": 8,
   "metadata": {
    "collapsed": true
   },
   "outputs": [],
   "source": [
    "# Iterate through `years_played` and add the number of years played to `player_stats`\n",
    "for k, v in years_played.items():\n",
    "    player_stats[k]['Years_Played'] = len(list(set(v)))"
   ]
  },
  {
   "cell_type": "code",
   "execution_count": 9,
   "metadata": {
    "collapsed": true
   },
   "outputs": [],
   "source": [
    "# Add fielding stats to `player_stats` from `fielding_df`\n",
    "salary_list = []\n",
    "salary_year = {}\n",
    "for i, row in salary_df.iterrows():\n",
    "    playerID = row['playerID']\n",
    "    salary = row['salary']\n",
    "\n",
    "    if playerID in player_stats and playerID in salary_list:\n",
    "        player_stats[playerID]['salary'] = player_stats[playerID]['salary'] + salary\n",
    "        salary_year[playerID].append(row['yearID'])\n",
    "\n",
    "    else:\n",
    "        salary_list.append(playerID)\n",
    "        player_stats[playerID]['salary'] = salary\n",
    "        salary_year[playerID] = []\n",
    "        salary_year[playerID].append(row['yearID'])\n",
    "\n",
    "for k, v in salary_year.items():\n",
    "    player_stats[k]['salary_year'] = len(list(set(v)))"
   ]
  },
  {
   "cell_type": "code",
   "execution_count": 10,
   "metadata": {
    "collapsed": true
   },
   "outputs": [],
   "source": [
    "# Fielding Table\n",
    "# # Initialize `fielder_list`\n",
    "fielder_list = []\n",
    "\n",
    "# Add fielding stats to `player_stats` from `fielding_df`\n",
    "for i, row in fielding_df.iterrows():\n",
    "    playerID = row['playerID']\n",
    "    Gf = row['G']\n",
    "    GSf = row['GS']\n",
    "    POf = row['PO']\n",
    "    Af = row['A']\n",
    "    Ef = row['E']\n",
    "    DPf = row['DP']\n",
    "    if playerID in player_stats and playerID in fielder_list:\n",
    "        player_stats[playerID]['Gf'] = player_stats[playerID]['Gf'] + Gf\n",
    "        player_stats[playerID]['GSf'] = player_stats[playerID]['GSf'] + GSf\n",
    "        player_stats[playerID]['POf'] = player_stats[playerID]['POf'] + POf\n",
    "        player_stats[playerID]['Af'] = player_stats[playerID]['Af'] + Af\n",
    "        player_stats[playerID]['Ef'] = player_stats[playerID]['Ef'] + Ef\n",
    "        player_stats[playerID]['DPf'] = player_stats[playerID]['DPf'] + DPf\n",
    "    else:\n",
    "        fielder_list.append(playerID)\n",
    "        player_stats[playerID]['Gf'] = Gf\n",
    "        player_stats[playerID]['GSf'] = GSf\n",
    "        player_stats[playerID]['POf'] = POf\n",
    "        player_stats[playerID]['Af'] = Af\n",
    "        player_stats[playerID]['Ef'] = Ef\n",
    "        player_stats[playerID]['DPf'] = DPf"
   ]
  },
  {
   "cell_type": "code",
   "execution_count": 11,
   "metadata": {},
   "outputs": [
    {
     "name": "stdout",
     "output_type": "stream",
     "text": [
      "['Pitching Triple Crown' 'Triple Crown' 'Baseball Magazine All-Star'\n",
      " 'Most Valuable Player' 'TSN All-Star' 'TSN Guide MVP'\n",
      " 'TSN Major League Player of the Year' 'TSN Pitcher of the Year'\n",
      " 'TSN Player of the Year' 'Rookie of the Year' 'Babe Ruth Award'\n",
      " 'Lou Gehrig Memorial Award' 'World Series MVP' 'Cy Young Award'\n",
      " 'Gold Glove' 'TSN Fireman of the Year' 'All-Star Game MVP' 'Hutch Award'\n",
      " 'Roberto Clemente Award' 'Rolaids Relief Man Award' 'NLCS MVP' 'ALCS MVP'\n",
      " 'Silver Slugger' 'Branch Rickey Award' 'Hank Aaron Award'\n",
      " 'TSN Reliever of the Year' 'Comeback Player of the Year'\n",
      " 'Outstanding DH Award' 'Reliever of the Year Award']\n",
      "29\n"
     ]
    }
   ],
   "source": [
    "# Award Table\n",
    "print(awards_df['awardID'].unique())\n",
    "print(len(awards_df['awardID'].unique()))"
   ]
  },
  {
   "cell_type": "code",
   "execution_count": 12,
   "metadata": {
    "collapsed": true
   },
   "outputs": [],
   "source": [
    "# Create DataFrames for each award - consider only the important awards\n",
    "mvp = awards_df[awards_df['awardID'] == 'Most Valuable Player']\n",
    "roy = awards_df[awards_df['awardID'] == 'Rookie of the Year']\n",
    "gg = awards_df[awards_df['awardID'] == 'Gold Glove']\n",
    "ss = awards_df[awards_df['awardID'] == 'Silver Slugger']\n",
    "ws_mvp = awards_df[awards_df['awardID'] == 'World Series MVP']\n",
    "\n",
    "bmas = awards_df[awards_df['awardID'] == 'Baseball Magazine All-Star']\n",
    "tsn = awards_df[awards_df['awardID'] == 'TSN All-Star']\n",
    "tsnp = awards_df[awards_df['awardID'] == 'TSN Pitcher of the Year']\n",
    "cya = awards_df[awards_df['awardID'] == 'Cy Young Award']\n",
    "tsnm = awards_df[awards_df['awardID'] == 'TSN Major League Player of the Year']\n",
    "braa = awards_df[awards_df['awardID'] == 'Babe Ruth Award']\n",
    "asgm = awards_df[awards_df['awardID'] == 'All-Star Game MVP']\n",
    "lgma = awards_df[awards_df['awardID'] == 'Lou Gehrig Memorial Award']\n",
    "rcw = awards_df[awards_df['awardID'] == 'Roberto Clemente Awardr']\n",
    "haa = awards_df[awards_df['awardID'] == 'Hutch Award']\n",
    "alcsm = awards_df[awards_df['awardID'] == 'ALCS MVP']\n",
    "tsng = awards_df[awards_df['awardID'] == 'TSN Guide MVPd']\n",
    "bra = awards_df[awards_df['awardID'] == 'Branch Rickey Award']\n",
    "tcc = awards_df[awards_df['awardID'] == 'Triple Crown']\n",
    "oda = awards_df[awards_df['awardID'] == 'Outstanding DH Award']\n",
    "\n",
    "\n",
    "# Include each DataFrame in `awards_list`\n",
    "awards_list = [mvp,roy,gg,ss,ws_mvp,bmas,tsn,tsnp,cya,tsnm,braa,asgm,lgma,rcw,haa,alcsm,tsng,\n",
    "              bra,tcc,oda]\n",
    "\n",
    "# Initialize lists for each of the above DataFrames\n",
    "mvp_list = []\n",
    "roy_list = []\n",
    "gg_list = []\n",
    "ss_list = []\n",
    "ws_mvp_list = []\n",
    "bmas_list = []\n",
    "tsn_list = []\n",
    "tsnp_list = []\n",
    "cya_list = []\n",
    "tsnm_list = []\n",
    "braa_list = []\n",
    "asgm_list = []\n",
    "lgma_list = []\n",
    "rcw_list = []\n",
    "haa_list = []\n",
    "alcsm_list = []\n",
    "tsng_list = []\n",
    "bra_list = []\n",
    "tcc_list = []\n",
    "oda_list = []\n",
    "\n",
    "\n",
    "# Include each of the above lists in `lists`\n",
    "lists = [mvp_list,roy_list,gg_list,ss_list,ws_mvp_list,bmas_list,tsn_list,tsnp_list,\n",
    "        cya_list,tsnm_list,braa_list,asgm_list,lgma_list,rcw_list,haa_list,alcsm_list,\n",
    "        tsng_list,bra_list,tcc_list,oda_list]"
   ]
  },
  {
   "cell_type": "code",
   "execution_count": 13,
   "metadata": {
    "collapsed": true
   },
   "outputs": [],
   "source": [
    "# Add a count for each award for each player in `player_stats`\n",
    "for index, v in enumerate(awards_list):\n",
    "    for i, row in v.iterrows():\n",
    "        playerID = row['playerID']\n",
    "        award = row['awardID']\n",
    "        if playerID in player_stats and playerID in lists[index]:\n",
    "            player_stats[playerID][award] += 1\n",
    "        else:\n",
    "            lists[index].append(playerID)\n",
    "            player_stats[playerID][award] = 1"
   ]
  },
  {
   "cell_type": "code",
   "execution_count": 14,
   "metadata": {
    "collapsed": true
   },
   "outputs": [],
   "source": [
    "# Allstar Table\n",
    "# Initialize `allstar_list`\n",
    "allstar_list = []\n",
    "\n",
    "# Add a count for each Allstar game appearance for each player in `player_stats`\n",
    "for i, row in allstar_df.iterrows():\n",
    "    playerID = row['playerID']\n",
    "    if playerID in player_stats and playerID in allstar_list:\n",
    "        player_stats[playerID]['AS_games'] += 1\n",
    "    else:\n",
    "        allstar_list.append(playerID)\n",
    "        player_stats[playerID]['AS_games'] = 1"
   ]
  },
  {
   "cell_type": "code",
   "execution_count": 15,
   "metadata": {
    "collapsed": true
   },
   "outputs": [],
   "source": [
    "# Hall Of Fame Table\n",
    "# filter `hof_df` to include only instances where a player was inducted into the Hall of Fame\n",
    "hof_df = hof_df[(hof_df['inducted'] == 'Y') & (hof_df['category'] == 'Player')]\n",
    "\n",
    "# Indicate which players in `player_stats` were inducted into the Hall of Fame\n",
    "for i, row in hof_df.iterrows():\n",
    "    playerID = row['playerID']\n",
    "    if playerID in player_stats:\n",
    "        player_stats[playerID]['HoF'] = 1\n",
    "        player_stats[playerID]['votedBy'] = row['votedBy']"
   ]
  },
  {
   "cell_type": "code",
   "execution_count": 16,
   "metadata": {
    "collapsed": true
   },
   "outputs": [],
   "source": [
    "# convert dictionary to dataframe\n",
    "# Convert `player_stats` into a DataFrame\n",
    "stats_df = pd.DataFrame.from_dict(player_stats, orient='index')"
   ]
  },
  {
   "cell_type": "code",
   "execution_count": 17,
   "metadata": {},
   "outputs": [
    {
     "data": {
      "text/html": [
       "<div>\n",
       "<style scoped>\n",
       "    .dataframe tbody tr th:only-of-type {\n",
       "        vertical-align: middle;\n",
       "    }\n",
       "\n",
       "    .dataframe tbody tr th {\n",
       "        vertical-align: top;\n",
       "    }\n",
       "\n",
       "    .dataframe thead th {\n",
       "        text-align: right;\n",
       "    }\n",
       "</style>\n",
       "<table border=\"1\" class=\"dataframe\">\n",
       "  <thead>\n",
       "    <tr style=\"text-align: right;\">\n",
       "      <th></th>\n",
       "      <th>G</th>\n",
       "      <th>AB</th>\n",
       "      <th>R</th>\n",
       "      <th>H</th>\n",
       "      <th>2B</th>\n",
       "      <th>3B</th>\n",
       "      <th>HR</th>\n",
       "      <th>RBI</th>\n",
       "      <th>SB</th>\n",
       "      <th>BB</th>\n",
       "      <th>...</th>\n",
       "      <th>Rookie of the Year</th>\n",
       "      <th>World Series MVP</th>\n",
       "      <th>Hutch Award</th>\n",
       "      <th>All-Star Game MVP</th>\n",
       "      <th>Branch Rickey Award</th>\n",
       "      <th>salary</th>\n",
       "      <th>salary_year</th>\n",
       "      <th>Silver Slugger</th>\n",
       "      <th>ALCS MVP</th>\n",
       "      <th>Outstanding DH Award</th>\n",
       "    </tr>\n",
       "  </thead>\n",
       "  <tbody>\n",
       "    <tr>\n",
       "      <th>aardsda01</th>\n",
       "      <td>331</td>\n",
       "      <td>4</td>\n",
       "      <td>0</td>\n",
       "      <td>0</td>\n",
       "      <td>0</td>\n",
       "      <td>0</td>\n",
       "      <td>0</td>\n",
       "      <td>0.0</td>\n",
       "      <td>0.0</td>\n",
       "      <td>0</td>\n",
       "      <td>...</td>\n",
       "      <td>NaN</td>\n",
       "      <td>NaN</td>\n",
       "      <td>NaN</td>\n",
       "      <td>NaN</td>\n",
       "      <td>NaN</td>\n",
       "      <td>9259750.0</td>\n",
       "      <td>7.0</td>\n",
       "      <td>NaN</td>\n",
       "      <td>NaN</td>\n",
       "      <td>NaN</td>\n",
       "    </tr>\n",
       "    <tr>\n",
       "      <th>aaronha01</th>\n",
       "      <td>3298</td>\n",
       "      <td>12364</td>\n",
       "      <td>2174</td>\n",
       "      <td>3771</td>\n",
       "      <td>624</td>\n",
       "      <td>98</td>\n",
       "      <td>755</td>\n",
       "      <td>2297.0</td>\n",
       "      <td>240.0</td>\n",
       "      <td>1402</td>\n",
       "      <td>...</td>\n",
       "      <td>NaN</td>\n",
       "      <td>NaN</td>\n",
       "      <td>NaN</td>\n",
       "      <td>NaN</td>\n",
       "      <td>NaN</td>\n",
       "      <td>NaN</td>\n",
       "      <td>NaN</td>\n",
       "      <td>NaN</td>\n",
       "      <td>NaN</td>\n",
       "      <td>NaN</td>\n",
       "    </tr>\n",
       "    <tr>\n",
       "      <th>aaronto01</th>\n",
       "      <td>437</td>\n",
       "      <td>944</td>\n",
       "      <td>102</td>\n",
       "      <td>216</td>\n",
       "      <td>42</td>\n",
       "      <td>6</td>\n",
       "      <td>13</td>\n",
       "      <td>94.0</td>\n",
       "      <td>9.0</td>\n",
       "      <td>86</td>\n",
       "      <td>...</td>\n",
       "      <td>NaN</td>\n",
       "      <td>NaN</td>\n",
       "      <td>NaN</td>\n",
       "      <td>NaN</td>\n",
       "      <td>NaN</td>\n",
       "      <td>NaN</td>\n",
       "      <td>NaN</td>\n",
       "      <td>NaN</td>\n",
       "      <td>NaN</td>\n",
       "      <td>NaN</td>\n",
       "    </tr>\n",
       "    <tr>\n",
       "      <th>aasedo01</th>\n",
       "      <td>448</td>\n",
       "      <td>5</td>\n",
       "      <td>0</td>\n",
       "      <td>0</td>\n",
       "      <td>0</td>\n",
       "      <td>0</td>\n",
       "      <td>0</td>\n",
       "      <td>0.0</td>\n",
       "      <td>0.0</td>\n",
       "      <td>0</td>\n",
       "      <td>...</td>\n",
       "      <td>NaN</td>\n",
       "      <td>NaN</td>\n",
       "      <td>NaN</td>\n",
       "      <td>NaN</td>\n",
       "      <td>NaN</td>\n",
       "      <td>2300000.0</td>\n",
       "      <td>4.0</td>\n",
       "      <td>NaN</td>\n",
       "      <td>NaN</td>\n",
       "      <td>NaN</td>\n",
       "    </tr>\n",
       "    <tr>\n",
       "      <th>abadan01</th>\n",
       "      <td>15</td>\n",
       "      <td>21</td>\n",
       "      <td>1</td>\n",
       "      <td>2</td>\n",
       "      <td>0</td>\n",
       "      <td>0</td>\n",
       "      <td>0</td>\n",
       "      <td>0.0</td>\n",
       "      <td>0.0</td>\n",
       "      <td>4</td>\n",
       "      <td>...</td>\n",
       "      <td>NaN</td>\n",
       "      <td>NaN</td>\n",
       "      <td>NaN</td>\n",
       "      <td>NaN</td>\n",
       "      <td>NaN</td>\n",
       "      <td>327000.0</td>\n",
       "      <td>1.0</td>\n",
       "      <td>NaN</td>\n",
       "      <td>NaN</td>\n",
       "      <td>NaN</td>\n",
       "    </tr>\n",
       "    <tr>\n",
       "      <th>abadfe01</th>\n",
       "      <td>363</td>\n",
       "      <td>9</td>\n",
       "      <td>0</td>\n",
       "      <td>1</td>\n",
       "      <td>0</td>\n",
       "      <td>0</td>\n",
       "      <td>0</td>\n",
       "      <td>0.0</td>\n",
       "      <td>0.0</td>\n",
       "      <td>0</td>\n",
       "      <td>...</td>\n",
       "      <td>NaN</td>\n",
       "      <td>NaN</td>\n",
       "      <td>NaN</td>\n",
       "      <td>NaN</td>\n",
       "      <td>NaN</td>\n",
       "      <td>3766400.0</td>\n",
       "      <td>5.0</td>\n",
       "      <td>NaN</td>\n",
       "      <td>NaN</td>\n",
       "      <td>NaN</td>\n",
       "    </tr>\n",
       "    <tr>\n",
       "      <th>abadijo01</th>\n",
       "      <td>12</td>\n",
       "      <td>49</td>\n",
       "      <td>4</td>\n",
       "      <td>11</td>\n",
       "      <td>0</td>\n",
       "      <td>0</td>\n",
       "      <td>0</td>\n",
       "      <td>5.0</td>\n",
       "      <td>1.0</td>\n",
       "      <td>0</td>\n",
       "      <td>...</td>\n",
       "      <td>NaN</td>\n",
       "      <td>NaN</td>\n",
       "      <td>NaN</td>\n",
       "      <td>NaN</td>\n",
       "      <td>NaN</td>\n",
       "      <td>NaN</td>\n",
       "      <td>NaN</td>\n",
       "      <td>NaN</td>\n",
       "      <td>NaN</td>\n",
       "      <td>NaN</td>\n",
       "    </tr>\n",
       "    <tr>\n",
       "      <th>abbated01</th>\n",
       "      <td>855</td>\n",
       "      <td>3044</td>\n",
       "      <td>355</td>\n",
       "      <td>772</td>\n",
       "      <td>99</td>\n",
       "      <td>43</td>\n",
       "      <td>11</td>\n",
       "      <td>324.0</td>\n",
       "      <td>142.0</td>\n",
       "      <td>289</td>\n",
       "      <td>...</td>\n",
       "      <td>NaN</td>\n",
       "      <td>NaN</td>\n",
       "      <td>NaN</td>\n",
       "      <td>NaN</td>\n",
       "      <td>NaN</td>\n",
       "      <td>NaN</td>\n",
       "      <td>NaN</td>\n",
       "      <td>NaN</td>\n",
       "      <td>NaN</td>\n",
       "      <td>NaN</td>\n",
       "    </tr>\n",
       "    <tr>\n",
       "      <th>abbeybe01</th>\n",
       "      <td>79</td>\n",
       "      <td>225</td>\n",
       "      <td>21</td>\n",
       "      <td>38</td>\n",
       "      <td>3</td>\n",
       "      <td>3</td>\n",
       "      <td>0</td>\n",
       "      <td>17.0</td>\n",
       "      <td>3.0</td>\n",
       "      <td>21</td>\n",
       "      <td>...</td>\n",
       "      <td>NaN</td>\n",
       "      <td>NaN</td>\n",
       "      <td>NaN</td>\n",
       "      <td>NaN</td>\n",
       "      <td>NaN</td>\n",
       "      <td>NaN</td>\n",
       "      <td>NaN</td>\n",
       "      <td>NaN</td>\n",
       "      <td>NaN</td>\n",
       "      <td>NaN</td>\n",
       "    </tr>\n",
       "    <tr>\n",
       "      <th>abbeych01</th>\n",
       "      <td>452</td>\n",
       "      <td>1756</td>\n",
       "      <td>307</td>\n",
       "      <td>493</td>\n",
       "      <td>67</td>\n",
       "      <td>46</td>\n",
       "      <td>19</td>\n",
       "      <td>280.0</td>\n",
       "      <td>93.0</td>\n",
       "      <td>167</td>\n",
       "      <td>...</td>\n",
       "      <td>NaN</td>\n",
       "      <td>NaN</td>\n",
       "      <td>NaN</td>\n",
       "      <td>NaN</td>\n",
       "      <td>NaN</td>\n",
       "      <td>NaN</td>\n",
       "      <td>NaN</td>\n",
       "      <td>NaN</td>\n",
       "      <td>NaN</td>\n",
       "      <td>NaN</td>\n",
       "    </tr>\n",
       "  </tbody>\n",
       "</table>\n",
       "<p>10 rows × 45 columns</p>\n",
       "</div>"
      ],
      "text/plain": [
       "              G     AB     R     H   2B  3B   HR     RBI     SB    BB  \\\n",
       "aardsda01   331      4     0     0    0   0    0     0.0    0.0     0   \n",
       "aaronha01  3298  12364  2174  3771  624  98  755  2297.0  240.0  1402   \n",
       "aaronto01   437    944   102   216   42   6   13    94.0    9.0    86   \n",
       "aasedo01    448      5     0     0    0   0    0     0.0    0.0     0   \n",
       "abadan01     15     21     1     2    0   0    0     0.0    0.0     4   \n",
       "abadfe01    363      9     0     1    0   0    0     0.0    0.0     0   \n",
       "abadijo01    12     49     4    11    0   0    0     5.0    1.0     0   \n",
       "abbated01   855   3044   355   772   99  43   11   324.0  142.0   289   \n",
       "abbeybe01    79    225    21    38    3   3    0    17.0    3.0    21   \n",
       "abbeych01   452   1756   307   493   67  46   19   280.0   93.0   167   \n",
       "\n",
       "                   ...           Rookie of the Year  World Series MVP  \\\n",
       "aardsda01          ...                          NaN               NaN   \n",
       "aaronha01          ...                          NaN               NaN   \n",
       "aaronto01          ...                          NaN               NaN   \n",
       "aasedo01           ...                          NaN               NaN   \n",
       "abadan01           ...                          NaN               NaN   \n",
       "abadfe01           ...                          NaN               NaN   \n",
       "abadijo01          ...                          NaN               NaN   \n",
       "abbated01          ...                          NaN               NaN   \n",
       "abbeybe01          ...                          NaN               NaN   \n",
       "abbeych01          ...                          NaN               NaN   \n",
       "\n",
       "           Hutch Award  All-Star Game MVP  Branch Rickey Award     salary  \\\n",
       "aardsda01          NaN                NaN                  NaN  9259750.0   \n",
       "aaronha01          NaN                NaN                  NaN        NaN   \n",
       "aaronto01          NaN                NaN                  NaN        NaN   \n",
       "aasedo01           NaN                NaN                  NaN  2300000.0   \n",
       "abadan01           NaN                NaN                  NaN   327000.0   \n",
       "abadfe01           NaN                NaN                  NaN  3766400.0   \n",
       "abadijo01          NaN                NaN                  NaN        NaN   \n",
       "abbated01          NaN                NaN                  NaN        NaN   \n",
       "abbeybe01          NaN                NaN                  NaN        NaN   \n",
       "abbeych01          NaN                NaN                  NaN        NaN   \n",
       "\n",
       "           salary_year  Silver Slugger  ALCS MVP  Outstanding DH Award  \n",
       "aardsda01          7.0             NaN       NaN                   NaN  \n",
       "aaronha01          NaN             NaN       NaN                   NaN  \n",
       "aaronto01          NaN             NaN       NaN                   NaN  \n",
       "aasedo01           4.0             NaN       NaN                   NaN  \n",
       "abadan01           1.0             NaN       NaN                   NaN  \n",
       "abadfe01           5.0             NaN       NaN                   NaN  \n",
       "abadijo01          NaN             NaN       NaN                   NaN  \n",
       "abbated01          NaN             NaN       NaN                   NaN  \n",
       "abbeybe01          NaN             NaN       NaN                   NaN  \n",
       "abbeych01          NaN             NaN       NaN                   NaN  \n",
       "\n",
       "[10 rows x 45 columns]"
      ]
     },
     "execution_count": 17,
     "metadata": {},
     "output_type": "execute_result"
    }
   ],
   "source": [
    "# showing first 10 rows of processed dataframe\n",
    "stats_df.head(10)"
   ]
  },
  {
   "cell_type": "code",
   "execution_count": 18,
   "metadata": {
    "collapsed": true
   },
   "outputs": [],
   "source": [
    "# joining stats_df with master file\n",
    "# Add a column for playerID from the `stats_df` index\n",
    "stats_df['playerID'] = stats_df.index\n",
    "\n",
    "# Join `stats_df` and `master_df`\n",
    "master_df = master_df.join(stats_df,on='playerID',how='inner', rsuffix='mstr')"
   ]
  },
  {
   "cell_type": "code",
   "execution_count": 19,
   "metadata": {
    "collapsed": true
   },
   "outputs": [],
   "source": [
    "# Initialize a dictionary\n",
    "pos_dict = {}\n",
    "\n",
    "# Iterate through `appearances_df`\n",
    "# Add a count for the number of appearances for each player at each position\n",
    "# Also add a count for the number of games played for each player in each era.\n",
    "for i, row in appearances_df.iterrows():\n",
    "    ID = row['playerID']\n",
    "    year = row['yearID']\n",
    "    if ID in pos_dict:\n",
    "        pos_dict[ID]['G_all'] = pos_dict[ID]['G_all'] + row['G_all']\n",
    "        pos_dict[ID]['G_p'] = pos_dict[ID]['G_p'] + row['G_p']\n",
    "        pos_dict[ID]['G_c'] = pos_dict[ID]['G_c'] + row['G_c']\n",
    "        pos_dict[ID]['G_1b'] = pos_dict[ID]['G_1b'] + row['G_1b']\n",
    "        pos_dict[ID]['G_2b'] = pos_dict[ID]['G_2b'] + row['G_2b']\n",
    "        pos_dict[ID]['G_3b'] = pos_dict[ID]['G_3b'] + row['G_3b']\n",
    "        pos_dict[ID]['G_ss'] = pos_dict[ID]['G_ss'] + row['G_ss']\n",
    "        pos_dict[ID]['G_lf'] = pos_dict[ID]['G_lf'] + row['G_lf']\n",
    "        pos_dict[ID]['G_cf'] = pos_dict[ID]['G_cf'] + row['G_cf']\n",
    "        pos_dict[ID]['G_rf'] = pos_dict[ID]['G_rf'] + row['G_rf']\n",
    "        pos_dict[ID]['G_of'] = pos_dict[ID]['G_of'] + row['G_of']\n",
    "        pos_dict[ID]['G_dh'] = pos_dict[ID]['G_dh'] + row['G_dh']\n",
    "        if year < 1920:\n",
    "            pos_dict[ID]['pre1920'] = pos_dict[ID]['pre1920'] + row['G_all']\n",
    "        elif year >= 1920 and year <= 1941:\n",
    "            pos_dict[ID]['1920-41'] = pos_dict[ID]['1920-41'] + row['G_all']\n",
    "        elif year >= 1942 and year <= 1945:\n",
    "            pos_dict[ID]['1942-45'] = pos_dict[ID]['1942-45'] + row['G_all']\n",
    "        elif year >= 1946 and year <= 1962:\n",
    "            pos_dict[ID]['1946-62'] = pos_dict[ID]['1946-62'] + row['G_all']\n",
    "        elif year >= 1963 and year <= 1976:\n",
    "            pos_dict[ID]['1963-76'] = pos_dict[ID]['1963-76'] + row['G_all']\n",
    "        elif year >= 1977 and year <= 1992:\n",
    "            pos_dict[ID]['1977-92'] = pos_dict[ID]['1977-92'] + row['G_all']\n",
    "        elif year >= 1993 and year <= 2009:\n",
    "            pos_dict[ID]['1993-2009'] = pos_dict[ID]['1993-2009'] + row['G_all']\n",
    "        elif year > 2009:\n",
    "            pos_dict[ID]['post2009'] = pos_dict[ID]['post2009'] + row['G_all']\n",
    "    else:\n",
    "        pos_dict[ID] = {}\n",
    "        pos_dict[ID]['G_all'] = row['G_all']\n",
    "        pos_dict[ID]['G_p'] = row['G_p']\n",
    "        pos_dict[ID]['G_c'] = row['G_c']\n",
    "        pos_dict[ID]['G_1b'] = row['G_1b']\n",
    "        pos_dict[ID]['G_2b'] = row['G_2b']\n",
    "        pos_dict[ID]['G_3b'] = row['G_3b']\n",
    "        pos_dict[ID]['G_ss'] = row['G_ss']\n",
    "        pos_dict[ID]['G_lf'] = row['G_lf']\n",
    "        pos_dict[ID]['G_cf'] = row['G_cf']\n",
    "        pos_dict[ID]['G_rf'] = row['G_rf']\n",
    "        pos_dict[ID]['G_of'] = row['G_of']\n",
    "        pos_dict[ID]['G_dh'] = row['G_dh']\n",
    "        pos_dict[ID]['pre1920'] = 0\n",
    "        pos_dict[ID]['1920-41'] = 0\n",
    "        pos_dict[ID]['1942-45'] = 0\n",
    "        pos_dict[ID]['1946-62'] = 0\n",
    "        pos_dict[ID]['1963-76'] = 0\n",
    "        pos_dict[ID]['1977-92'] = 0\n",
    "        pos_dict[ID]['1993-2009'] = 0\n",
    "        pos_dict[ID]['post2009'] = 0\n",
    "        if year < 1920:\n",
    "            pos_dict[ID]['pre1920'] = row['G_all']\n",
    "        elif year >= 1920 and year <= 1941:\n",
    "            pos_dict[ID]['1920-41'] = row['G_all']\n",
    "        elif year >= 1942 and year <= 1945:\n",
    "            pos_dict[ID]['1942-45'] = row['G_all']\n",
    "        elif year >= 1946 and year <= 1962:\n",
    "            pos_dict[ID]['1946-62'] = row['G_all']\n",
    "        elif year >= 1963 and year <= 1976:\n",
    "            pos_dict[ID]['1963-76'] = row['G_all']\n",
    "        elif year >= 1977 and year <= 1992:\n",
    "            pos_dict[ID]['1977-92'] = row['G_all']\n",
    "        elif year >= 1993 and year <= 2009:\n",
    "            pos_dict[ID]['1993-2009'] = row['G_all']\n",
    "        elif year > 2009:\n",
    "            pos_dict[ID]['post2009'] = row['G_all']"
   ]
  },
  {
   "cell_type": "code",
   "execution_count": 20,
   "metadata": {
    "collapsed": true
   },
   "outputs": [],
   "source": [
    "# Convert the `pos_dict` to a DataFrame\n",
    "pos_df = pd.DataFrame.from_dict(pos_dict, orient='index')"
   ]
  },
  {
   "cell_type": "code",
   "execution_count": 21,
   "metadata": {
    "collapsed": true
   },
   "outputs": [],
   "source": [
    "# Next you want to determine the percentage of times each player played at each position and within each era.\n",
    "# Create a list from the columns of `pos_df`\n",
    "pos_col_list = pos_df.columns.tolist()\n",
    "\n",
    "# Remove the string 'G_all'\n",
    "pos_col_list.remove('G_all')\n",
    "\n",
    "# Loop through the list and divide each column by the players total games played\n",
    "for col in pos_col_list:\n",
    "    column = col + '_percent'\n",
    "    pos_df[column] = pos_df[col] / pos_df['G_all']"
   ]
  },
  {
   "cell_type": "code",
   "execution_count": 22,
   "metadata": {},
   "outputs": [
    {
     "name": "stdout",
     "output_type": "stream",
     "text": [
      "    playerID nameFirst nameLast bats throws       debut   finalGame     G  \\\n",
      "0  aardsda01     David  Aardsma    R      R  2004-04-06  2015-08-23   331   \n",
      "1  aaronha01      Hank    Aaron    R      R  1954-04-13  1976-10-03  3298   \n",
      "2  aaronto01    Tommie    Aaron    R      R  1962-04-10  1971-09-26   437   \n",
      "3   aasedo01       Don     Aase    R      R  1977-07-26  1990-10-03   448   \n",
      "4   abadan01      Andy     Abad    L      L  2001-09-10  2006-04-13    15   \n",
      "\n",
      "      AB     R        ...         G_of_percent  G_dh_percent  pre1920_percent  \\\n",
      "0      4     0        ...             0.000000      0.000000              0.0   \n",
      "1  12364  2174        ...             0.836871      0.060946              0.0   \n",
      "2    944   102        ...             0.313501      0.000000              0.0   \n",
      "3      5     0        ...             0.000000      0.000000              0.0   \n",
      "4     21     1        ...             0.066667      0.000000              0.0   \n",
      "\n",
      "   1920-41_percent  1942-45_percent  1946-62_percent  1963-76_percent  \\\n",
      "0              0.0              0.0         0.000000         0.000000   \n",
      "1              0.0              0.0         0.409339         0.590661   \n",
      "2              0.0              0.0         0.322654         0.677346   \n",
      "3              0.0              0.0         0.000000         0.000000   \n",
      "4              0.0              0.0         0.000000         0.000000   \n",
      "\n",
      "   1977-92_percent  1993-2009_percent  post2009_percent  \n",
      "0              0.0           0.607251          0.392749  \n",
      "1              0.0           0.000000          0.000000  \n",
      "2              0.0           0.000000          0.000000  \n",
      "3              1.0           0.000000          0.000000  \n",
      "4              0.0           1.000000          0.000000  \n",
      "\n",
      "[5 rows x 92 columns]\n"
     ]
    }
   ],
   "source": [
    "# Join `pos_df` and `master_df`\n",
    "master_df = master_df.join(pos_df,on='playerID',how='right')\n",
    "\n",
    "# Print out the first rows of `master_df`\n",
    "print(master_df.head())"
   ]
  },
  {
   "cell_type": "code",
   "execution_count": 23,
   "metadata": {},
   "outputs": [
    {
     "name": "stdout",
     "output_type": "stream",
     "text": [
      "<class 'pandas.core.frame.DataFrame'>\n",
      "Int64Index: 19078 entries, 0 to 19369\n",
      "Data columns (total 92 columns):\n",
      "playerID                               19078 non-null object\n",
      "nameFirst                              19040 non-null object\n",
      "nameLast                               19078 non-null object\n",
      "bats                                   18000 non-null object\n",
      "throws                                 18205 non-null object\n",
      "debut                                  19069 non-null object\n",
      "finalGame                              19069 non-null object\n",
      "G                                      19078 non-null int64\n",
      "AB                                     19078 non-null int64\n",
      "R                                      19078 non-null int64\n",
      "H                                      19078 non-null int64\n",
      "2B                                     19078 non-null int64\n",
      "3B                                     19078 non-null int64\n",
      "HR                                     19078 non-null int64\n",
      "RBI                                    18556 non-null float64\n",
      "SB                                     18195 non-null float64\n",
      "BB                                     19078 non-null int64\n",
      "SO                                     16645 non-null float64\n",
      "IBB                                    10650 non-null float64\n",
      "HBP                                    18071 non-null float64\n",
      "SH                                     17335 non-null float64\n",
      "SF                                     10761 non-null float64\n",
      "Years_Played                           19078 non-null int64\n",
      "Gf                                     18879 non-null float64\n",
      "GSf                                    10508 non-null float64\n",
      "POf                                    18879 non-null float64\n",
      "Af                                     18879 non-null float64\n",
      "Ef                                     18878 non-null float64\n",
      "DPf                                    18879 non-null float64\n",
      "HoF                                    126 non-null float64\n",
      "votedBy                                19078 non-null object\n",
      "Triple Crown                           12 non-null float64\n",
      "Baseball Magazine All-Star             325 non-null float64\n",
      "Most Valuable Player                   140 non-null float64\n",
      "TSN All-Star                           609 non-null float64\n",
      "AS_games                               1766 non-null float64\n",
      "TSN Major League Player of the Year    64 non-null float64\n",
      "TSN Pitcher of the Year                94 non-null float64\n",
      "Babe Ruth Award                        57 non-null float64\n",
      "Cy Young Award                         77 non-null float64\n",
      "Lou Gehrig Memorial Award              55 non-null float64\n",
      "Gold Glove                             341 non-null float64\n",
      "Rookie of the Year                     141 non-null float64\n",
      "World Series MVP                       59 non-null float64\n",
      "Hutch Award                            48 non-null float64\n",
      "All-Star Game MVP                      50 non-null float64\n",
      "Branch Rickey Award                    22 non-null float64\n",
      "salary                                 5147 non-null float64\n",
      "salary_year                            5147 non-null float64\n",
      "Silver Slugger                         306 non-null float64\n",
      "ALCS MVP                               36 non-null float64\n",
      "Outstanding DH Award                   2 non-null float64\n",
      "playerIDmstr                           19078 non-null object\n",
      "G_all                                  19078 non-null int64\n",
      "G_p                                    19078 non-null int64\n",
      "G_c                                    19078 non-null int64\n",
      "G_1b                                   19078 non-null int64\n",
      "G_2b                                   19078 non-null int64\n",
      "G_3b                                   19078 non-null int64\n",
      "G_ss                                   19078 non-null int64\n",
      "G_lf                                   19078 non-null int64\n",
      "G_cf                                   19078 non-null int64\n",
      "G_rf                                   19078 non-null int64\n",
      "G_of                                   19078 non-null int64\n",
      "G_dh                                   17611 non-null float64\n",
      "pre1920                                19078 non-null int64\n",
      "1920-41                                19078 non-null int64\n",
      "1942-45                                19078 non-null int64\n",
      "1946-62                                19078 non-null int64\n",
      "1963-76                                19078 non-null int64\n",
      "1977-92                                19078 non-null int64\n",
      "1993-2009                              19078 non-null int64\n",
      "post2009                               19078 non-null int64\n",
      "G_p_percent                            19078 non-null float64\n",
      "G_c_percent                            19078 non-null float64\n",
      "G_1b_percent                           19078 non-null float64\n",
      "G_2b_percent                           19078 non-null float64\n",
      "G_3b_percent                           19078 non-null float64\n",
      "G_ss_percent                           19078 non-null float64\n",
      "G_lf_percent                           19078 non-null float64\n",
      "G_cf_percent                           19078 non-null float64\n",
      "G_rf_percent                           19078 non-null float64\n",
      "G_of_percent                           19078 non-null float64\n",
      "G_dh_percent                           17611 non-null float64\n",
      "pre1920_percent                        19078 non-null float64\n",
      "1920-41_percent                        19078 non-null float64\n",
      "1942-45_percent                        19078 non-null float64\n",
      "1946-62_percent                        19078 non-null float64\n",
      "1963-76_percent                        19078 non-null float64\n",
      "1977-92_percent                        19078 non-null float64\n",
      "1993-2009_percent                      19078 non-null float64\n",
      "post2009_percent                       19078 non-null float64\n",
      "dtypes: float64(55), int64(28), object(9)\n",
      "memory usage: 13.5+ MB\n"
     ]
    }
   ],
   "source": [
    "# Replace NA values with `None`\n",
    "master_df['votedBy'] = master_df['votedBy'].fillna('None')\n",
    "\n",
    "# Filter `master_df` to include only players who were voted into the Hall of Fame or Players who did not make it at all\n",
    "master_df = master_df[(master_df['votedBy'] == 'None') | (master_df['votedBy'] == 'BBWAA') | (master_df['votedBy'] == 'Run Off')]\n",
    "\n",
    "# Inspect `master_df`\n",
    "master_df.info()"
   ]
  },
  {
   "cell_type": "code",
   "execution_count": 24,
   "metadata": {},
   "outputs": [
    {
     "name": "stdout",
     "output_type": "stream",
     "text": [
      "    playerID nameFirst nameLast bats throws       debut   finalGame     G  \\\n",
      "0  aardsda01     David  Aardsma    R      R  2004-04-06  2015-08-23   331   \n",
      "1  aaronha01      Hank    Aaron    R      R  1954-04-13  1976-10-03  3298   \n",
      "2  aaronto01    Tommie    Aaron    R      R  1962-04-10  1971-09-26   437   \n",
      "3   aasedo01       Don     Aase    R      R  1977-07-26  1990-10-03   448   \n",
      "4   abadan01      Andy     Abad    L      L  2001-09-10  2006-04-13    15   \n",
      "\n",
      "      AB     R    ...     pre1920_percent  1920-41_percent  1942-45_percent  \\\n",
      "0      4     0    ...                 0.0              0.0              0.0   \n",
      "1  12364  2174    ...                 0.0              0.0              0.0   \n",
      "2    944   102    ...                 0.0              0.0              0.0   \n",
      "3      5     0    ...                 0.0              0.0              0.0   \n",
      "4     21     1    ...                 0.0              0.0              0.0   \n",
      "\n",
      "   1946-62_percent  1963-76_percent  1977-92_percent  1993-2009_percent  \\\n",
      "0         0.000000         0.000000              0.0           0.607251   \n",
      "1         0.409339         0.590661              0.0           0.000000   \n",
      "2         0.322654         0.677346              0.0           0.000000   \n",
      "3         0.000000         0.000000              1.0           0.000000   \n",
      "4         0.000000         0.000000              0.0           1.000000   \n",
      "\n",
      "   post2009_percent  bats_R  throws_R  \n",
      "0          0.392749       1         1  \n",
      "1          0.000000       1         1  \n",
      "2          0.000000       1         1  \n",
      "3          0.000000       1         1  \n",
      "4          0.000000       0         0  \n",
      "\n",
      "[5 rows x 94 columns]\n"
     ]
    }
   ],
   "source": [
    "# Create a function to convert the bats and throws colums to numeric\n",
    "def bats_throws(col):\n",
    "    if col == \"R\":\n",
    "        return 1\n",
    "    else:\n",
    "        return 0\n",
    "\n",
    "# Use the `apply()` method to create numeric columns from the bats and throws columns\n",
    "master_df['bats_R'] = master_df['bats'].apply(bats_throws)\n",
    "master_df['throws_R'] = master_df['throws'].apply(bats_throws)\n",
    "\n",
    "# Print out the first rows of `master_df`\n",
    "print(master_df.head())"
   ]
  },
  {
   "cell_type": "code",
   "execution_count": 25,
   "metadata": {
    "collapsed": true
   },
   "outputs": [],
   "source": [
    "# extracting time\n",
    "# Import datetime \n",
    "from datetime import datetime\n",
    "\n",
    "# Convert the `debut` column to datetime\n",
    "master_df['debut'] =  pd.to_datetime(master_df['debut'])\n",
    "# Convert the `finalGame` column to datetime\n",
    "master_df['finalGame'] = pd.to_datetime(master_df['finalGame'])\n",
    "\n",
    "# Create new columns for debutYear and finalYear\n",
    "master_df['debutYear'] = pd.to_numeric(master_df['debut'].dt.strftime('%Y'), errors='coerce')\n",
    "master_df['finalYear'] = pd.to_numeric(master_df['finalGame'].dt.strftime('%Y'), errors='coerce')"
   ]
  },
  {
   "cell_type": "code",
   "execution_count": 26,
   "metadata": {},
   "outputs": [
    {
     "name": "stdout",
     "output_type": "stream",
     "text": [
      "Index(['playerID', 'nameFirst', 'nameLast', 'debut', 'finalGame', 'G', 'AB',\n",
      "       'R', 'H', '2B', '3B', 'HR', 'RBI', 'SB', 'BB', 'SO', 'HBP', 'SH', 'SF',\n",
      "       'Years_Played', 'Af', 'Ef', 'DPf', 'HoF', 'Triple Crown',\n",
      "       'Baseball Magazine All-Star', 'Most Valuable Player', 'TSN All-Star',\n",
      "       'AS_games', 'TSN Major League Player of the Year',\n",
      "       'TSN Pitcher of the Year', 'Babe Ruth Award', 'Cy Young Award',\n",
      "       'Lou Gehrig Memorial Award', 'Gold Glove', 'Rookie of the Year',\n",
      "       'World Series MVP', 'Hutch Award', 'All-Star Game MVP',\n",
      "       'Branch Rickey Award', 'salary', 'salary_year', 'Silver Slugger',\n",
      "       'ALCS MVP', 'Outstanding DH Award', 'G_all', 'G_p', 'G_c', 'G_1b',\n",
      "       'G_2b', 'G_3b', 'G_ss', 'G_lf', 'G_cf', 'G_rf', 'G_of', 'G_dh',\n",
      "       'pre1920', '1920-41', '1942-45', '1946-62', '1963-76', '1977-92',\n",
      "       '1993-2009', 'post2009', 'G_p_percent', 'G_c_percent', 'G_1b_percent',\n",
      "       'G_2b_percent', 'G_3b_percent', 'G_ss_percent', 'G_lf_percent',\n",
      "       'G_cf_percent', 'G_rf_percent', 'G_of_percent', 'G_dh_percent',\n",
      "       'pre1920_percent', '1920-41_percent', '1942-45_percent',\n",
      "       '1946-62_percent', '1963-76_percent', '1977-92_percent',\n",
      "       '1993-2009_percent', 'post2009_percent', 'bats_R', 'throws_R',\n",
      "       'debutYear', 'finalYear'],\n",
      "      dtype='object')\n",
      "88\n",
      "[0, 38, 0, 9, 9, 0, 0, 0, 0, 0, 0, 0, 522, 883, 0, 2433, 1007, 1743, 8317, 0, 199, 200, 199, 18952, 19066, 18753, 18938, 18469, 17312, 19014, 18984, 19021, 19001, 19023, 18737, 18937, 19019, 19030, 19028, 19056, 13931, 13931, 18772, 19042, 19076, 0, 0, 0, 0, 0, 0, 0, 0, 0, 0, 0, 1467, 0, 0, 0, 0, 0, 0, 0, 0, 0, 0, 0, 0, 0, 0, 0, 0, 0, 0, 1467, 0, 0, 0, 0, 0, 0, 0, 0, 0, 0, 9, 9]\n"
     ]
    }
   ],
   "source": [
    "# Eliminating unnecessary columns\n",
    "df = master_df.drop(['votedBy', 'IBB', 'bats', 'throws', 'GSf', 'POf','Gf', 'playerIDmstr'], axis=1)\n",
    "\n",
    "# Print `df` columns \n",
    "print(df.columns)\n",
    "print(len(df.columns))\n",
    "\n",
    "# Print a list of null values\n",
    "print(df.isnull().sum(axis=0).tolist())"
   ]
  },
  {
   "cell_type": "code",
   "execution_count": 27,
   "metadata": {},
   "outputs": [
    {
     "name": "stdout",
     "output_type": "stream",
     "text": [
      "[0, 38, 0, 9, 9, 0, 0, 0, 0, 0, 0, 0, 0, 0, 0, 0, 0, 0, 0, 0, 0, 0, 0, 0, 0, 0, 0, 0, 0, 0, 0, 0, 0, 0, 0, 0, 0, 0, 0, 0, 0, 0, 0, 0, 0, 0, 0, 0, 0, 0, 0, 0, 0, 0, 0, 0, 0, 0, 0, 0, 0, 0, 0, 0, 0, 0, 0, 0, 0, 0, 0, 0, 0, 0, 0, 0, 0, 0, 0, 0, 0, 0, 0, 0, 0, 0, 9, 9]\n"
     ]
    }
   ],
   "source": [
    "# Fill null values in numeric columns with 0\n",
    "fill_cols = ['Triple Crown',\n",
    "       'Baseball Magazine All-Star', 'Most Valuable Player', 'TSN All-Star',\n",
    "       'AS_games', 'TSN Major League Player of the Year',\n",
    "       'TSN Pitcher of the Year', 'Babe Ruth Award', 'Cy Young Award',\n",
    "       'Lou Gehrig Memorial Award', 'Gold Glove', 'Rookie of the Year',\n",
    "       'World Series MVP', 'Hutch Award', 'All-Star Game MVP',\n",
    "       'Branch Rickey Award', 'salary', 'salary_year', 'Silver Slugger',\n",
    "       'ALCS MVP', 'Outstanding DH Award', 'HoF', '1977-92', 'pre1920', '1942-45', '1946-62', '1963-76', '1920-41', '1993-2009', 'HBP', 'SB', 'SF', 'SH', 'RBI', 'SO', 'World Series MVP', 'G_dh_percent', 'G_dh', 'Af', 'DPf', 'Ef']\n",
    "\n",
    "for col in fill_cols:\n",
    "    df[col] = df[col].fillna(0)\n",
    "\n",
    "print(df.isnull().sum(axis=0).tolist())"
   ]
  },
  {
   "cell_type": "code",
   "execution_count": 28,
   "metadata": {},
   "outputs": [
    {
     "name": "stdout",
     "output_type": "stream",
     "text": [
      "[0, 0, 0, 0, 0, 0, 0, 0, 0, 0, 0, 0, 0, 0, 0, 0, 0, 0, 0, 0, 0, 0, 0, 0, 0, 0, 0, 0, 0, 0, 0, 0, 0, 0, 0, 0, 0, 0, 0, 0, 0, 0, 0, 0, 0, 0, 0, 0, 0, 0, 0, 0, 0, 0, 0, 0, 0, 0, 0, 0, 0, 0, 0, 0, 0, 0, 0, 0, 0, 0, 0, 0, 0, 0, 0, 0, 0, 0, 0, 0, 0, 0, 0, 0, 0, 0, 0, 0]\n"
     ]
    }
   ],
   "source": [
    "# Drop any additional rows with null values\n",
    "df = df.dropna()\n",
    "\n",
    "# Check to make sure null values have been removed\n",
    "print(df.isnull().sum(axis=0).tolist())"
   ]
  },
  {
   "cell_type": "markdown",
   "metadata": {},
   "source": [
    "Feature Engineering: Creating New Features\n",
    "\n",
    "Batting Ave. = Hits / At Bats\n",
    "\n",
    "Plate Appearances = At Bats + Walks + Sacrifice Flys & Hits + Hit by Pitch\n",
    "\n",
    "On-base % = (Hits + Walks + Hit by Pitch) / Plate Appearances\n",
    "\n",
    "Slugging % = ((Home Runs x 4) + (Triples x 3) + (Doubles x 2) + Singles) / At Bats\n",
    "\n",
    "On-Base plus Slugging % = On-base % + Slugging %"
   ]
  },
  {
   "cell_type": "code",
   "execution_count": 29,
   "metadata": {
    "collapsed": true
   },
   "outputs": [],
   "source": [
    "# Create Batting Average (`AVE`) column\n",
    "df['AVE'] = df['H'] / df['AB']\n",
    "\n",
    "# Create On Base Percent (`OBP`) column\n",
    "plate_appearances = (df['AB'] + df['BB'] + df['SF'] + df['SH'] + df['HBP'])\n",
    "df['OBP'] = (df['H'] + df['BB'] + df['HBP']) / plate_appearances\n",
    "\n",
    "# Create Slugging Percent (`Slug_Percent`) column\n",
    "single = ((df['H'] - df['2B']) - df['3B']) - df['HR']\n",
    "df['Slug_Percent'] = ((df['HR'] * 4) + (df['3B'] * 3) + (df['2B'] * 2) + single) / df['AB']\n",
    "\n",
    "# Create On Base plus Slugging Percent (`OPS`) column\n",
    "hr = df['HR'] * 4\n",
    "triple = df['3B'] * 3\n",
    "double = df['2B'] * 2\n",
    "df['OPS'] = df['OBP'] + df['Slug_Percent']"
   ]
  },
  {
   "cell_type": "code",
   "execution_count": 30,
   "metadata": {},
   "outputs": [
    {
     "name": "stdout",
     "output_type": "stream",
     "text": [
      "126\n"
     ]
    }
   ],
   "source": [
    "# Filter the `df` for the remaining Hall of Fame members in the data\n",
    "df_hof = df[df['HoF'] == 1]\n",
    "\n",
    "# Print the length of the new DataFrame\n",
    "print(len(df_hof))"
   ]
  },
  {
   "cell_type": "code",
   "execution_count": 31,
   "metadata": {
    "collapsed": true
   },
   "outputs": [],
   "source": [
    "#Add a column to df for years since last season (YSLS) by subtracting the finalYear column from 2016. Next, create a new DataFrame called df_hitters by filtering df for players whose last season was more than 15 years ago and create one called df_eligible for players whose last season was 15 or less years ago.\n",
    "#Create column for years since retirement\n",
    "df['YSLS'] = 2017 - df['finalYear']\n",
    "\n",
    "# Filter `df` for players who retired more than 15 years ago\n",
    "df_hitters = df[df['YSLS'] > 15]\n",
    "\n",
    "# Filter `df` for players who retired less than 15 years ago and for currently active players\n",
    "df_eligible = df[df['YSLS']<= 15]\n"
   ]
  },
  {
   "cell_type": "code",
   "execution_count": 32,
   "metadata": {
    "collapsed": true
   },
   "outputs": [],
   "source": [
    "# Select columns to use for models, and identification columns\n",
    "num_cols_hitters = ['playerID', 'nameFirst', 'nameLast', 'HoF', 'Years_Played', \n",
    "                    'H', 'BB', 'HR', 'AVE', 'OBP', 'Slug_Percent', 'OPS',  'RBI',\n",
    "                    'R', 'SB', '2B', '3B', 'AB', 'SO', 'Most Valuable Player', \n",
    "                    'World Series MVP', 'AS_games','Gold Glove', 'Rookie of the Year',\n",
    "                    'Silver Slugger', 'bats_R', 'throws_R', 'DPf', 'Af', 'Ef', 'YSLS', \n",
    "                    'G_all', '1963-76_percent', '1993-2009_percent', '1946-62_percent', \n",
    "                    'G_1b_percent', '1942-45_percent','G_dh_percent', '1920-41_percent',\n",
    "                    'G_ss_percent','post2009_percent', '1977-92_percent', 'G_2b_percent', \n",
    "                    'G_3b_percent','G_of_percent', 'pre1920_percent']\n",
    "\n",
    "# Create a new DataFrame (`data`) from the `df_hitters` using the columns above\n",
    "data = df_hitters[num_cols_hitters]"
   ]
  },
  {
   "cell_type": "code",
   "execution_count": 33,
   "metadata": {},
   "outputs": [
    {
     "name": "stdout",
     "output_type": "stream",
     "text": [
      "14314\n",
      "107\n"
     ]
    }
   ],
   "source": [
    "# Print length of `data`\n",
    "print(len(data))\n",
    "\n",
    "# Print how many Hall of Fame members are in data\n",
    "print(len(data[data['HoF'] == 1]))"
   ]
  },
  {
   "cell_type": "code",
   "execution_count": 34,
   "metadata": {
    "collapsed": true
   },
   "outputs": [],
   "source": [
    "#df.to_csv('baseball_df_processed.csv')"
   ]
  },
  {
   "cell_type": "markdown",
   "metadata": {},
   "source": [
    "# Model Preprocessing"
   ]
  },
  {
   "cell_type": "code",
   "execution_count": 35,
   "metadata": {
    "collapsed": true
   },
   "outputs": [],
   "source": [
    "# loading data\n",
    "#df = pd.read_csv('baseball_df_processed.csv')\n",
    "people = pd.read_csv('../input/baseballdatabank-master/core/People.csv',usecols=['playerID','birthYear','birthMonth','deathYear','deathMonth','birthCountry','birthState','weight','height'])"
   ]
  },
  {
   "cell_type": "code",
   "execution_count": 36,
   "metadata": {
    "collapsed": true
   },
   "outputs": [],
   "source": [
    "# Join `people` and `df`\n",
    "df = df.merge(people, how='left', left_on='playerID', right_on='playerID')"
   ]
  },
  {
   "cell_type": "code",
   "execution_count": 37,
   "metadata": {},
   "outputs": [
    {
     "data": {
      "text/plain": [
       "(19031, 102)"
      ]
     },
     "execution_count": 37,
     "metadata": {},
     "output_type": "execute_result"
    }
   ],
   "source": [
    "df.shape"
   ]
  },
  {
   "cell_type": "code",
   "execution_count": 38,
   "metadata": {
    "collapsed": true
   },
   "outputs": [],
   "source": [
    "# calculate age of debut\n",
    "res = df.debutYear - df.birthYear\n",
    "df = df.assign(debut_age = res)"
   ]
  },
  {
   "cell_type": "code",
   "execution_count": 39,
   "metadata": {
    "collapsed": true
   },
   "outputs": [],
   "source": [
    "# calculate age of final game \n",
    "res = df.finalYear - df.birthYear\n",
    "df = df.assign(final_game_age = res)"
   ]
  },
  {
   "cell_type": "code",
   "execution_count": 40,
   "metadata": {},
   "outputs": [
    {
     "data": {
      "text/plain": [
       "19"
      ]
     },
     "execution_count": 40,
     "metadata": {},
     "output_type": "execute_result"
    }
   ],
   "source": [
    "award = ['Triple Crown',\n",
    "       'Baseball Magazine All-Star', 'Most Valuable Player', 'TSN All-Star',\n",
    "       'AS_games', 'TSN Major League Player of the Year',\n",
    "       'TSN Pitcher of the Year', 'Babe Ruth Award', 'Cy Young Award',\n",
    "       'Lou Gehrig Memorial Award', 'Gold Glove', 'Rookie of the Year',\n",
    "       'World Series MVP', 'Hutch Award', 'All-Star Game MVP',\n",
    "       'Branch Rickey Award', 'Silver Slugger',\n",
    "       'ALCS MVP', 'Outstanding DH Award']\n",
    "len(award)"
   ]
  },
  {
   "cell_type": "code",
   "execution_count": 41,
   "metadata": {},
   "outputs": [
    {
     "data": {
      "text/plain": [
       "Index(['Unnamed: 0', 'playerID', 'nameFirst', 'nameLast', 'debut', 'finalGame',\n",
       "       'G', 'AB', 'R', 'H',\n",
       "       ...\n",
       "       'birthYear', 'birthMonth', 'birthCountry', 'birthState', 'deathYear',\n",
       "       'deathMonth', 'weight', 'height', 'debut_age', 'final_game_age'],\n",
       "      dtype='object', length=104)"
      ]
     },
     "execution_count": 41,
     "metadata": {},
     "output_type": "execute_result"
    }
   ],
   "source": [
    "df.columns"
   ]
  },
  {
   "cell_type": "code",
   "execution_count": 42,
   "metadata": {
    "collapsed": true
   },
   "outputs": [],
   "source": [
    "# total award\n",
    "res= []\n",
    "for i, row in df.iterrows():\n",
    "    playerID = row['playerID']\n",
    "    s = 0\n",
    "    for n in set(award):\n",
    "        s += row[n]\n",
    "    res.append(s)\n",
    "    \n",
    "df = df.assign(total_award = res)"
   ]
  },
  {
   "cell_type": "code",
   "execution_count": 43,
   "metadata": {
    "collapsed": true
   },
   "outputs": [],
   "source": [
    "# average salary\n",
    "df = df.assign(avg_salary = df.salary / df.salary_year)"
   ]
  },
  {
   "cell_type": "code",
   "execution_count": 44,
   "metadata": {
    "collapsed": true
   },
   "outputs": [],
   "source": [
    "#df.to_csv('baseball_df_processed2.csv')"
   ]
  },
  {
   "cell_type": "code",
   "execution_count": 45,
   "metadata": {},
   "outputs": [
    {
     "name": "stdout",
     "output_type": "stream",
     "text": [
      "[0, 0, 0, 0, 0, 0, 0, 0, 0, 0, 0, 0, 0, 0, 0, 0, 0, 0, 0, 0, 0, 0, 0, 0, 0, 0, 0, 0, 0, 0, 0, 0, 0, 0, 0, 0, 0, 0, 0, 0, 0, 0, 0, 0, 0, 0, 0, 0, 0, 0, 0, 0, 0, 0, 0, 0, 0, 0, 0, 0, 0, 0, 0, 0, 0, 0, 0, 0, 0, 0, 0, 0, 0, 0, 0, 0, 0, 0, 0, 0, 0, 0, 0, 0, 0, 0, 0, 0, 0, 2071, 2002, 2071, 2071, 0, 84, 245, 33, 482, 9728, 9729, 696, 613, 84, 84, 0, 13884]\n"
     ]
    }
   ],
   "source": [
    "# data with playerID matched with platerID in salary data \n",
    "df_salary_data = df\n",
    "\n",
    "# checking null\n",
    "print(df_salary_data.isnull().sum(axis=0).tolist())"
   ]
  },
  {
   "cell_type": "code",
   "execution_count": 46,
   "metadata": {
    "collapsed": true
   },
   "outputs": [],
   "source": [
    "fill_cols = ['Triple Crown',\n",
    "       'Baseball Magazine All-Star', 'Most Valuable Player', 'TSN All-Star',\n",
    "       'AS_games', 'TSN Major League Player of the Year',\n",
    "       'TSN Pitcher of the Year', 'Babe Ruth Award', 'Cy Young Award',\n",
    "       'Lou Gehrig Memorial Award', 'Gold Glove', 'Rookie of the Year',\n",
    "       'World Series MVP', 'Hutch Award', 'All-Star Game MVP',\n",
    "       'Branch Rickey Award', 'salary', 'salary_year', 'Silver Slugger',\n",
    "       'ALCS MVP', 'Outstanding DH Award', 'HoF', '1977-92', 'pre1920', '1942-45',\n",
    "             '1946-62', '1963-76', '1920-41', '1993-2009', 'HBP', 'SB', 'SF', 'SH', \n",
    "             'RBI', 'SO', 'World Series MVP', 'G_dh_percent', 'G_dh', 'Af', 'DPf', 'Ef',\n",
    "             'birthYear','birthMonth','deathYear','deathMonth','birthCountry','birthState','weight','height']"
   ]
  },
  {
   "cell_type": "code",
   "execution_count": 47,
   "metadata": {},
   "outputs": [
    {
     "name": "stdout",
     "output_type": "stream",
     "text": [
      "[0, 0, 0, 0, 0, 0, 0, 0, 0, 0, 0, 0, 0, 0, 0, 0, 0, 0, 0, 0, 0, 0, 0, 0, 0, 0, 0, 0, 0, 0, 0, 0, 0, 0, 0, 0, 0, 0, 0, 0, 0, 0, 0, 0, 0, 0, 0, 0, 0, 0, 0, 0, 0, 0, 0, 0, 0, 0, 0, 0, 0, 0, 0, 0, 0, 0, 0, 0, 0, 0, 0, 0, 0, 0, 0, 0, 0, 0, 0, 0, 0, 0, 0, 0, 0, 0, 0, 0, 0, 0, 0, 0, 0, 0, 0, 0, 0, 0, 0, 0, 0, 0, 0, 0, 0, 0]\n",
      "90\n"
     ]
    }
   ],
   "source": [
    "# checking null\n",
    "for col in fill_cols:\n",
    "    df_salary_data['total_award'] = df_salary_data['total_award'].fillna(0)\n",
    "\n",
    "df_salary_data = df_salary_data.dropna()\n",
    "\n",
    "\n",
    "print(df_salary_data.isnull().sum(axis=0).tolist())\n",
    "print(len(df_salary_data))"
   ]
  },
  {
   "cell_type": "code",
   "execution_count": 48,
   "metadata": {},
   "outputs": [
    {
     "name": "stdout",
     "output_type": "stream",
     "text": [
      "1840 : 0\n",
      "1850 : 0\n",
      "1860 : 1.0\n",
      "1870 : 4.0\n",
      "1880 : 48.0\n",
      "1890 : 318.0\n",
      "1900 : 588.0\n",
      "1910 : 910.0\n",
      "1920 : 1409.0\n",
      "1930 : 1669.0\n",
      "1940 : 1981.0\n",
      "1950 : 2389.0\n",
      "1960 : 2364.0\n",
      "1970 : 2706.0\n",
      "1980 : 2778.0\n",
      "1990 : 2326.0\n",
      "2000 : 1456.0\n",
      "2010 : 407.0\n"
     ]
    }
   ],
   "source": [
    "# number of total award\n",
    "j = 1840\n",
    "while j <= 2018:\n",
    "    print(j, ':', sum(df.total_award[df.debutYear.between(j, j +20, inclusive = True)]))\n",
    "    j += 10"
   ]
  },
  {
   "cell_type": "markdown",
   "metadata": {},
   "source": [
    "As the number of awards is significant lower before 1920, this model will not consider data before 1920. As many players who debut after 2000 are still relatively too young to receive some awards, the model will not consider players who debut after 2000, whicba agrees with the summary table above."
   ]
  },
  {
   "cell_type": "code",
   "execution_count": 49,
   "metadata": {},
   "outputs": [
    {
     "name": "stdout",
     "output_type": "stream",
     "text": [
      "1840 : 0\n",
      "1850 : 0\n",
      "1860 : 0.0\n",
      "1870 : 1.0\n",
      "1880 : 5.0\n",
      "1890 : 9.0\n",
      "1900 : 15.0\n",
      "1910 : 27.0\n",
      "1920 : 24.0\n",
      "1930 : 19.0\n",
      "1940 : 27.0\n",
      "1950 : 38.0\n",
      "1960 : 36.0\n",
      "1970 : 30.0\n",
      "1980 : 22.0\n",
      "1990 : 9.0\n",
      "2000 : 0.0\n",
      "2010 : 0.0\n"
     ]
    }
   ],
   "source": [
    "# number of hall of fame\n",
    "j = 1840\n",
    "while j <= 2018:\n",
    "    print(j, ':', sum(df.HoF[df.debutYear.between(j, j +20, inclusive = True)]))\n",
    "    j += 10"
   ]
  },
  {
   "cell_type": "markdown",
   "metadata": {},
   "source": [
    "Players who debut after 2000 still do not have a chance to receive or nominate as a hall of fame candidate due to the policy of hall of fame."
   ]
  },
  {
   "cell_type": "code",
   "execution_count": 50,
   "metadata": {},
   "outputs": [
    {
     "name": "stdout",
     "output_type": "stream",
     "text": [
      "1        39.0\n",
      "179      18.0\n",
      "249      33.0\n",
      "405      28.0\n",
      "412      17.0\n",
      "604      15.0\n",
      "720      22.0\n",
      "1139     39.0\n",
      "1237     31.0\n",
      "1316     23.0\n",
      "1485      2.0\n",
      "1519     29.0\n",
      "1656     18.0\n",
      "1865     26.0\n",
      "1940     11.0\n",
      "2485     17.0\n",
      "2580     30.0\n",
      "2607     26.0\n",
      "2680     27.0\n",
      "3172     31.0\n",
      "3178     30.0\n",
      "3261     29.0\n",
      "3697     26.0\n",
      "4072     26.0\n",
      "4091     17.0\n",
      "4346     31.0\n",
      "4399     47.0\n",
      "4645     13.0\n",
      "4834     10.0\n",
      "5250     25.0\n",
      "         ... \n",
      "14951    35.0\n",
      "14979    10.0\n",
      "15098    34.0\n",
      "15328    43.0\n",
      "15473    22.0\n",
      "15805    25.0\n",
      "15861    16.0\n",
      "16060    36.0\n",
      "16103    14.0\n",
      "16121    13.0\n",
      "16222    33.0\n",
      "16236    27.0\n",
      "16377    17.0\n",
      "16761     8.0\n",
      "16763     7.0\n",
      "17018    14.0\n",
      "17083    15.0\n",
      "17108    10.0\n",
      "17338    28.0\n",
      "17582    10.0\n",
      "17808    12.0\n",
      "17944    18.0\n",
      "18367     8.0\n",
      "18403    12.0\n",
      "18485    56.0\n",
      "18591    31.0\n",
      "18822    12.0\n",
      "18843    33.0\n",
      "18897     2.0\n",
      "18935    14.0\n",
      "Name: total_award, Length: 126, dtype: float64\n",
      "22.23015873015873\n"
     ]
    }
   ],
   "source": [
    "# number of total award of each hall of fame winner\n",
    "print(df.total_award[df.HoF > 0])\n",
    "print(sum(df.total_award[df.HoF > 0])/len(df.total_award[df.HoF > 0]))"
   ]
  },
  {
   "cell_type": "markdown",
   "metadata": {},
   "source": [
    "The mean total number of awards of hall of fame winner is 22. Most of the hall of fame winners have awards more than 10."
   ]
  },
  {
   "cell_type": "code",
   "execution_count": 51,
   "metadata": {},
   "outputs": [
    {
     "data": {
      "text/plain": [
       "0.850     0.0\n",
       "0.855     0.0\n",
       "0.860     0.0\n",
       "0.865     0.0\n",
       "0.870     0.0\n",
       "0.875     0.0\n",
       "0.880     0.0\n",
       "0.885     0.0\n",
       "0.890     0.0\n",
       "0.895     1.0\n",
       "0.900     1.0\n",
       "0.905     1.0\n",
       "0.910     1.0\n",
       "0.915     1.0\n",
       "0.920     1.0\n",
       "0.925     1.0\n",
       "0.930     1.0\n",
       "0.935     2.0\n",
       "0.940     2.0\n",
       "0.945     2.0\n",
       "0.950     3.0\n",
       "0.955     3.0\n",
       "0.960     4.0\n",
       "0.965     4.0\n",
       "0.970     5.0\n",
       "0.975     6.0\n",
       "0.980     8.0\n",
       "0.985    10.0\n",
       "0.990    12.0\n",
       "0.995    19.0\n",
       "1.000    56.0\n",
       "Name: total_award, dtype: float64"
      ]
     },
     "execution_count": 51,
     "metadata": {},
     "output_type": "execute_result"
    }
   ],
   "source": [
    "# total award quantile distribution - only 5% of the total players have 4+ total award\n",
    "df.total_award.quantile(np.arange(0.85,1,0.005))"
   ]
  },
  {
   "cell_type": "markdown",
   "metadata": {},
   "source": [
    "About 14% of the players receive one or more awards. About 7% of the players receive two or more awards. Since the number of players who receive more than one awards is significantly higher. This model will consider those with one award as \"players who receive an award by randomness/luck/odd\".\n",
    "\n",
    "To further distinguish the hall of fame winners and ordinary award winners. This model reward 20 awards to each of the hall of fame winners."
   ]
  },
  {
   "cell_type": "code",
   "execution_count": 52,
   "metadata": {},
   "outputs": [
    {
     "name": "stderr",
     "output_type": "stream",
     "text": [
      "/Users/wx3land/anaconda3/lib/python3.6/site-packages/ipykernel_launcher.py:4: SettingWithCopyWarning: \n",
      "A value is trying to be set on a copy of a slice from a DataFrame\n",
      "\n",
      "See the caveats in the documentation: http://pandas.pydata.org/pandas-docs/stable/indexing.html#indexing-view-versus-copy\n",
      "  after removing the cwd from sys.path.\n"
     ]
    }
   ],
   "source": [
    "# adding 20 extra award to HoF winner\n",
    "for i in range(0, len(df)):\n",
    "    if df.HoF[i] > 0:\n",
    "        df.total_award[i] += 20"
   ]
  },
  {
   "cell_type": "code",
   "execution_count": 53,
   "metadata": {
    "collapsed": true
   },
   "outputs": [],
   "source": [
    "#df.to_csv('baseball_df_processed3.csv')"
   ]
  },
  {
   "cell_type": "markdown",
   "metadata": {},
   "source": [
    "# RULE of evaluating good players\n",
    "\n",
    "- setting rule that if a player wins HoF, he will receive plus 20 in total award\n",
    "\n",
    "- hypothesis: the more awards a player receives, the better player he is\n",
    "\n",
    "- performance:\n",
    "    - 0 award - ordinary players\n",
    "    - 1 awards - winning the award by odd/luck\n",
    "    - 2 - 20 awards - good players\n",
    "    - 20+ awards - hall of fame players (potentially)\n",
    "    \n",
    "    \n",
    "- the number of awards given to players after 1920 are significantly higher than 1910\n",
    "- number of awards given to players after 2000 are significantly fewer - this may due to some valuable players are still under evaluation of the committees\n",
    "- hence, only players who debut between 1920 - 2000 are considered in this model\n",
    "- two test data are used: 1) players debut from the 1920 - 2000, 2) players debut from 2001 - 2017\n",
    "\n",
    "Other common rules in baseball that are used in the model\n",
    "- Batting Ave. = Hits / At Bats\n",
    "- Plate Appearances = At Bats + Walks + Sacrifice Flys & Hits + Hit by Pitch\n",
    "- On-base % = (Hits + Walks + Hit by Pitch) / Plate Appearances\n",
    "- Slugging % = ((Home Runs x 4) + (Triples x 3) + (Doubles x 2) + Singles) / At Bats\n",
    "- On-Base plus Slugging % = On-base % + Slugging %"
   ]
  },
  {
   "cell_type": "code",
   "execution_count": 54,
   "metadata": {
    "collapsed": true
   },
   "outputs": [],
   "source": [
    "# saving back up of df\n",
    "df_original = df"
   ]
  },
  {
   "cell_type": "code",
   "execution_count": 55,
   "metadata": {
    "collapsed": true
   },
   "outputs": [],
   "source": [
    "# keeping players between 1920 to 2000\n",
    "df = df[df.debutYear.between(1920, 2000, inclusive = True)]"
   ]
  },
  {
   "cell_type": "code",
   "execution_count": 56,
   "metadata": {},
   "outputs": [
    {
     "data": {
      "text/plain": [
       "(10548, 106)"
      ]
     },
     "execution_count": 56,
     "metadata": {},
     "output_type": "execute_result"
    }
   ],
   "source": [
    "# 9413 players left \n",
    "df.shape"
   ]
  },
  {
   "cell_type": "code",
   "execution_count": 57,
   "metadata": {},
   "outputs": [
    {
     "name": "stdout",
     "output_type": "stream",
     "text": [
      "['Unnamed: 0', 'playerID', 'nameFirst', 'nameLast', 'debut', 'finalGame', 'G', 'AB', 'R', 'H', '2B', '3B', 'HR', 'RBI', 'SB', 'BB', 'SO', 'HBP', 'SH', 'SF', 'Years_Played', 'Af', 'Ef', 'DPf', 'HoF', 'Triple Crown', 'Baseball Magazine All-Star', 'Most Valuable Player', 'TSN All-Star', 'AS_games', 'TSN Major League Player of the Year', 'TSN Pitcher of the Year', 'Babe Ruth Award', 'Cy Young Award', 'Lou Gehrig Memorial Award', 'Gold Glove', 'Rookie of the Year', 'World Series MVP', 'Hutch Award', 'All-Star Game MVP', 'Branch Rickey Award', 'salary', 'salary_year', 'Silver Slugger', 'ALCS MVP', 'Outstanding DH Award', 'G_all', 'G_p', 'G_c', 'G_1b', 'G_2b', 'G_3b', 'G_ss', 'G_lf', 'G_cf', 'G_rf', 'G_of', 'G_dh', 'pre1920', '1920-41', '1942-45', '1946-62', '1963-76', '1977-92', '1993-2009', 'post2009', 'G_p_percent', 'G_c_percent', 'G_1b_percent', 'G_2b_percent', 'G_3b_percent', 'G_ss_percent', 'G_lf_percent', 'G_cf_percent', 'G_rf_percent', 'G_of_percent', 'G_dh_percent', 'pre1920_percent', '1920-41_percent', '1942-45_percent', '1946-62_percent', '1963-76_percent', '1977-92_percent', '1993-2009_percent', 'post2009_percent', 'bats_R', 'throws_R', 'debutYear', 'finalYear', 'AVE', 'OBP', 'Slug_Percent', 'OPS', 'YSLS', 'birthYear', 'birthMonth', 'birthCountry', 'birthState', 'deathYear', 'deathMonth', 'weight', 'height', 'debut_age', 'final_game_age', 'total_award', 'avg_salary']\n"
     ]
    }
   ],
   "source": [
    "print(df.columns.tolist())"
   ]
  },
  {
   "cell_type": "code",
   "execution_count": 58,
   "metadata": {
    "collapsed": true
   },
   "outputs": [],
   "source": [
    "# selecting variables\n",
    "num_cols_hitters = ['Years_Played', \n",
    "                    'H', 'BB', 'HR', 'AVE', 'OBP', 'Slug_Percent', 'OPS',  'RBI',\n",
    "                    'R', 'SB', '2B', '3B', 'AB', 'SO', 'bats_R', 'throws_R', 'DPf', 'Af', 'Ef', 'YSLS', \n",
    "                    'G_all', '1963-76_percent', '1993-2009_percent', '1946-62_percent', \n",
    "                    'G_1b_percent', '1942-45_percent','G_dh_percent', '1920-41_percent',\n",
    "                    'G_ss_percent','post2009_percent', '1977-92_percent', 'G_2b_percent', \n",
    "                    'G_3b_percent','G_of_percent','debut_age','weight','height',\n",
    "                    'total_award']"
   ]
  },
  {
   "cell_type": "code",
   "execution_count": 59,
   "metadata": {
    "collapsed": true
   },
   "outputs": [],
   "source": [
    "# Create a new DataFrame (`data`) from the `df_hitters` using the columns above\n",
    "data = df[num_cols_hitters]"
   ]
  },
  {
   "cell_type": "code",
   "execution_count": 60,
   "metadata": {},
   "outputs": [
    {
     "data": {
      "text/plain": [
       "(10548, 39)"
      ]
     },
     "execution_count": 60,
     "metadata": {},
     "output_type": "execute_result"
    }
   ],
   "source": [
    "# dimension\n",
    "data.shape"
   ]
  },
  {
   "cell_type": "code",
   "execution_count": 61,
   "metadata": {},
   "outputs": [
    {
     "name": "stdout",
     "output_type": "stream",
     "text": [
      "[0, 0, 0, 0, 1134, 1107, 1134, 1134, 0, 0, 0, 0, 0, 0, 0, 0, 0, 0, 0, 0, 0, 0, 0, 0, 0, 0, 0, 0, 0, 0, 0, 0, 0, 0, 0, 0, 6, 4, 0]\n"
     ]
    }
   ],
   "source": [
    "print(data.isnull().sum(axis=0).tolist())\n",
    "data = data.dropna()"
   ]
  },
  {
   "cell_type": "code",
   "execution_count": 62,
   "metadata": {},
   "outputs": [
    {
     "name": "stdout",
     "output_type": "stream",
     "text": [
      "['Years_Played', 'H', 'BB', 'HR', 'AVE', 'OBP', 'Slug_Percent', 'OPS', 'RBI', 'R', 'SB', '2B', '3B', 'AB', 'SO', 'bats_R', 'throws_R', 'DPf', 'Af', 'Ef', 'YSLS', 'G_all', '1963-76_percent', '1993-2009_percent', '1946-62_percent', 'G_1b_percent', '1942-45_percent', 'G_dh_percent', '1920-41_percent', 'G_ss_percent', 'post2009_percent', '1977-92_percent', 'G_2b_percent', 'G_3b_percent', 'G_of_percent', 'debut_age', 'weight', 'height', 'total_award']\n"
     ]
    }
   ],
   "source": [
    "print(data.columns.tolist())"
   ]
  },
  {
   "cell_type": "code",
   "execution_count": 63,
   "metadata": {},
   "outputs": [
    {
     "data": {
      "text/plain": [
       "<matplotlib.axes._subplots.AxesSubplot at 0x1a2a136668>"
      ]
     },
     "execution_count": 63,
     "metadata": {},
     "output_type": "execute_result"
    },
    {
     "data": {
      "image/png": "[encoded data removed]",
      "text/plain": [
       "<Figure size 720x576 with 2 Axes>"
      ]
     },
     "metadata": {},
     "output_type": "display_data"
    }
   ],
   "source": [
    "f, ax = plt.subplots(figsize=(10, 8))\n",
    "corr = data.corr()\n",
    "sns.heatmap(corr, mask=np.zeros_like(corr, dtype=np.bool), cmap=sns.diverging_palette(220, 10, as_cmap=True),\n",
    "            square=True, ax=ax)"
   ]
  },
  {
   "cell_type": "code",
   "execution_count": 64,
   "metadata": {
    "collapsed": true
   },
   "outputs": [],
   "source": [
    "# saving back up of df\n",
    "data_original = data.copy()"
   ]
  },
  {
   "cell_type": "markdown",
   "metadata": {},
   "source": [
    "# multi-variate classification\n",
    "performance:\n",
    "- 0 award - ordinary players\n",
    "- 1 awards - award winning players by chance/luck/odd\n",
    "- 2-20 awards - good players\n",
    "- 20+ awards - hall of fame players (potentially)"
   ]
  },
  {
   "cell_type": "code",
   "execution_count": 65,
   "metadata": {
    "collapsed": true
   },
   "outputs": [],
   "source": [
    "data = data_original.copy()"
   ]
  },
  {
   "cell_type": "code",
   "execution_count": 66,
   "metadata": {},
   "outputs": [
    {
     "name": "stderr",
     "output_type": "stream",
     "text": [
      "/Users/wx3land/anaconda3/lib/python3.6/site-packages/ipykernel_launcher.py:1: SettingWithCopyWarning: \n",
      "A value is trying to be set on a copy of a slice from a DataFrame\n",
      "\n",
      "See the caveats in the documentation: http://pandas.pydata.org/pandas-docs/stable/indexing.html#indexing-view-versus-copy\n",
      "  \"\"\"Entry point for launching an IPython kernel.\n",
      "/Users/wx3land/anaconda3/lib/python3.6/site-packages/ipykernel_launcher.py:2: SettingWithCopyWarning: \n",
      "A value is trying to be set on a copy of a slice from a DataFrame\n",
      "\n",
      "See the caveats in the documentation: http://pandas.pydata.org/pandas-docs/stable/indexing.html#indexing-view-versus-copy\n",
      "  \n",
      "/Users/wx3land/anaconda3/lib/python3.6/site-packages/ipykernel_launcher.py:3: SettingWithCopyWarning: \n",
      "A value is trying to be set on a copy of a slice from a DataFrame\n",
      "\n",
      "See the caveats in the documentation: http://pandas.pydata.org/pandas-docs/stable/indexing.html#indexing-view-versus-copy\n",
      "  This is separate from the ipykernel package so we can avoid doing imports until\n"
     ]
    }
   ],
   "source": [
    "data.total_award[data.total_award < 1] =0\n",
    "data.total_award[data.total_award.between(2,20, inclusive = True)] =1\n",
    "data.total_award[data.total_award > 20] =2"
   ]
  },
  {
   "cell_type": "code",
   "execution_count": 67,
   "metadata": {},
   "outputs": [
    {
     "data": {
      "text/plain": [
       "0.0    7898\n",
       "1.0    1387\n",
       "2.0     125\n",
       "Name: total_award, dtype: int64"
      ]
     },
     "execution_count": 67,
     "metadata": {},
     "output_type": "execute_result"
    }
   ],
   "source": [
    "data.total_award.value_counts()"
   ]
  },
  {
   "cell_type": "code",
   "execution_count": 68,
   "metadata": {
    "collapsed": true
   },
   "outputs": [],
   "source": [
    "# logistic regression \n",
    "# Create `target` Series\n",
    "target = data['total_award']\n",
    "\n",
    "# Create `features` DataFrame\n",
    "features = data.drop(['total_award'], axis=1)"
   ]
  },
  {
   "cell_type": "code",
   "execution_count": 69,
   "metadata": {},
   "outputs": [
    {
     "name": "stderr",
     "output_type": "stream",
     "text": [
      "/Users/wx3land/anaconda3/lib/python3.6/site-packages/ipykernel_launcher.py:2: DataConversionWarning: Data with input dtype int64, float64 were all converted to float64 by the scale function.\n",
      "  \n"
     ]
    }
   ],
   "source": [
    "# scale variables\n",
    "features_scale = scale(features, axis=0, with_mean=True, with_std=True, copy=True)\n",
    "features_scale = pd.DataFrame(features_scale, columns = features.columns)"
   ]
  },
  {
   "cell_type": "code",
   "execution_count": 70,
   "metadata": {
    "collapsed": true
   },
   "outputs": [],
   "source": [
    "# testing and training set\n",
    "X_train, X_test, y_train, y_test = train_test_split(features, target, test_size=0.3, random_state=1)"
   ]
  },
  {
   "cell_type": "code",
   "execution_count": 71,
   "metadata": {},
   "outputs": [
    {
     "name": "stdout",
     "output_type": "stream",
     "text": [
      "Random over-sampling:\n",
      "2.0    5514\n",
      "1.0    5514\n",
      "0.0    5514\n",
      "Name: total_award, dtype: int64\n"
     ]
    }
   ],
   "source": [
    "# over sampling\n",
    "X_train_over = X_train.assign(total_award = y_train)\n",
    "\n",
    "X_train_0 = X_train_over[X_train_over.total_award == 0]\n",
    "X_train_1 = X_train_over[X_train_over.total_award == 1]\n",
    "X_train_2 = X_train_over[X_train_over.total_award == 2]\n",
    "\n",
    "X_train_1_over = X_train_1.sample(len(X_train_0), replace=True)\n",
    "X_train_2_over = X_train_2.sample(len(X_train_0), replace=True)\n",
    "\n",
    "X_train_over = pd.concat([X_train_0, X_train_1_over,X_train_2_over], axis=0)\n",
    "\n",
    "y_train = X_train_over.total_award\n",
    "\n",
    "print('Random over-sampling:')\n",
    "print(X_train_over.total_award.value_counts())"
   ]
  },
  {
   "cell_type": "code",
   "execution_count": 72,
   "metadata": {
    "collapsed": true
   },
   "outputs": [],
   "source": [
    "# drop response\n",
    "X_train_over = X_train_over.drop(['total_award'], axis=1)\n",
    "X_train = X_train_over"
   ]
  },
  {
   "cell_type": "code",
   "execution_count": 73,
   "metadata": {},
   "outputs": [
    {
     "data": {
      "text/plain": [
       "(16542, 38)"
      ]
     },
     "execution_count": 73,
     "metadata": {},
     "output_type": "execute_result"
    }
   ],
   "source": [
    "X_train.shape"
   ]
  },
  {
   "cell_type": "code",
   "execution_count": 74,
   "metadata": {},
   "outputs": [
    {
     "name": "stderr",
     "output_type": "stream",
     "text": [
      "/Users/wx3land/anaconda3/lib/python3.6/site-packages/sklearn/linear_model/logistic.py:433: FutureWarning: Default solver will be changed to 'lbfgs' in 0.22. Specify a solver to silence this warning.\n",
      "  FutureWarning)\n"
     ]
    },
    {
     "data": {
      "text/plain": [
       "LogisticRegression(C=1.0, class_weight=None, dual=False, fit_intercept=True,\n",
       "          intercept_scaling=1, max_iter=100, multi_class='auto',\n",
       "          n_jobs=None, penalty='l2', random_state=None, solver='warn',\n",
       "          tol=0.0001, verbose=0, warm_start=False)"
      ]
     },
     "execution_count": 74,
     "metadata": {},
     "output_type": "execute_result"
    }
   ],
   "source": [
    "# logistic regression \n",
    "from sklearn.linear_model import LogisticRegression\n",
    "from sklearn import metrics\n",
    "\n",
    "\n",
    "# X_train, X_test, y_train, y_test = train_test_split(features, target, test_size=0.3, random_state=1)\n",
    "logreg = LogisticRegression(multi_class ='auto')\n",
    "logreg.fit(X_train, y_train)"
   ]
  },
  {
   "cell_type": "code",
   "execution_count": 75,
   "metadata": {},
   "outputs": [
    {
     "name": "stdout",
     "output_type": "stream",
     "text": [
      "Accuracy of logistic regression classifier on test set: 0.84\n"
     ]
    }
   ],
   "source": [
    "y_pred = logreg.predict(X_test)\n",
    "print('Accuracy of logistic regression classifier on test set: {:.2f}'.format(logreg.score(X_test, y_test)))"
   ]
  },
  {
   "cell_type": "code",
   "execution_count": 76,
   "metadata": {},
   "outputs": [
    {
     "name": "stdout",
     "output_type": "stream",
     "text": [
      "[[2080  289   15]\n",
      " [  75  264   62]\n",
      " [   0    9   29]]\n"
     ]
    }
   ],
   "source": [
    "confusion_matrix = confusion_matrix(y_test, y_pred)\n",
    "print(confusion_matrix)"
   ]
  },
  {
   "cell_type": "code",
   "execution_count": 77,
   "metadata": {},
   "outputs": [
    {
     "name": "stdout",
     "output_type": "stream",
     "text": [
      "              precision    recall  f1-score   support\n",
      "\n",
      "         0.0       0.97      0.87      0.92      2384\n",
      "         1.0       0.47      0.66      0.55       401\n",
      "         2.0       0.27      0.76      0.40        38\n",
      "\n",
      "   micro avg       0.84      0.84      0.84      2823\n",
      "   macro avg       0.57      0.76      0.62      2823\n",
      "weighted avg       0.89      0.84      0.86      2823\n",
      "\n"
     ]
    }
   ],
   "source": [
    "print(classification_report(y_test, y_pred))"
   ]
  },
  {
   "cell_type": "code",
   "execution_count": 78,
   "metadata": {},
   "outputs": [
    {
     "data": {
      "text/html": [
       "<div>\n",
       "<style scoped>\n",
       "    .dataframe tbody tr th:only-of-type {\n",
       "        vertical-align: middle;\n",
       "    }\n",
       "\n",
       "    .dataframe tbody tr th {\n",
       "        vertical-align: top;\n",
       "    }\n",
       "\n",
       "    .dataframe thead th {\n",
       "        text-align: right;\n",
       "    }\n",
       "</style>\n",
       "<table border=\"1\" class=\"dataframe\">\n",
       "  <thead>\n",
       "    <tr style=\"text-align: right;\">\n",
       "      <th></th>\n",
       "      <th>0</th>\n",
       "      <th>0</th>\n",
       "      <th>1</th>\n",
       "      <th>2</th>\n",
       "    </tr>\n",
       "  </thead>\n",
       "  <tbody>\n",
       "    <tr>\n",
       "      <th>0</th>\n",
       "      <td>Years_Played</td>\n",
       "      <td>-0.490416</td>\n",
       "      <td>-0.079872</td>\n",
       "      <td>0.607213</td>\n",
       "    </tr>\n",
       "    <tr>\n",
       "      <th>1</th>\n",
       "      <td>H</td>\n",
       "      <td>0.000205</td>\n",
       "      <td>-0.008537</td>\n",
       "      <td>0.005883</td>\n",
       "    </tr>\n",
       "    <tr>\n",
       "      <th>2</th>\n",
       "      <td>BB</td>\n",
       "      <td>0.001836</td>\n",
       "      <td>-0.000481</td>\n",
       "      <td>-0.003506</td>\n",
       "    </tr>\n",
       "    <tr>\n",
       "      <th>3</th>\n",
       "      <td>HR</td>\n",
       "      <td>-0.004724</td>\n",
       "      <td>-0.011899</td>\n",
       "      <td>0.002512</td>\n",
       "    </tr>\n",
       "    <tr>\n",
       "      <th>4</th>\n",
       "      <td>AVE</td>\n",
       "      <td>0.062368</td>\n",
       "      <td>0.079246</td>\n",
       "      <td>-0.599137</td>\n",
       "    </tr>\n",
       "    <tr>\n",
       "      <th>5</th>\n",
       "      <td>OBP</td>\n",
       "      <td>0.089011</td>\n",
       "      <td>-0.026282</td>\n",
       "      <td>-0.747654</td>\n",
       "    </tr>\n",
       "    <tr>\n",
       "      <th>6</th>\n",
       "      <td>Slug_Percent</td>\n",
       "      <td>0.105327</td>\n",
       "      <td>0.210283</td>\n",
       "      <td>-0.457512</td>\n",
       "    </tr>\n",
       "    <tr>\n",
       "      <th>7</th>\n",
       "      <td>OPS</td>\n",
       "      <td>0.194338</td>\n",
       "      <td>0.184001</td>\n",
       "      <td>-1.205167</td>\n",
       "    </tr>\n",
       "    <tr>\n",
       "      <th>8</th>\n",
       "      <td>RBI</td>\n",
       "      <td>-0.003301</td>\n",
       "      <td>-0.002277</td>\n",
       "      <td>0.005186</td>\n",
       "    </tr>\n",
       "    <tr>\n",
       "      <th>9</th>\n",
       "      <td>R</td>\n",
       "      <td>-0.005840</td>\n",
       "      <td>0.001092</td>\n",
       "      <td>0.015310</td>\n",
       "    </tr>\n",
       "    <tr>\n",
       "      <th>10</th>\n",
       "      <td>SB</td>\n",
       "      <td>0.001799</td>\n",
       "      <td>-0.004825</td>\n",
       "      <td>-0.001301</td>\n",
       "    </tr>\n",
       "    <tr>\n",
       "      <th>11</th>\n",
       "      <td>2B</td>\n",
       "      <td>0.017119</td>\n",
       "      <td>0.004278</td>\n",
       "      <td>-0.016389</td>\n",
       "    </tr>\n",
       "    <tr>\n",
       "      <th>12</th>\n",
       "      <td>3B</td>\n",
       "      <td>0.005049</td>\n",
       "      <td>0.002960</td>\n",
       "      <td>-0.012248</td>\n",
       "    </tr>\n",
       "    <tr>\n",
       "      <th>13</th>\n",
       "      <td>AB</td>\n",
       "      <td>-0.000344</td>\n",
       "      <td>0.002205</td>\n",
       "      <td>-0.002697</td>\n",
       "    </tr>\n",
       "    <tr>\n",
       "      <th>14</th>\n",
       "      <td>SO</td>\n",
       "      <td>0.000285</td>\n",
       "      <td>0.001136</td>\n",
       "      <td>-0.001557</td>\n",
       "    </tr>\n",
       "    <tr>\n",
       "      <th>15</th>\n",
       "      <td>bats_R</td>\n",
       "      <td>-0.132136</td>\n",
       "      <td>0.194931</td>\n",
       "      <td>0.007205</td>\n",
       "    </tr>\n",
       "    <tr>\n",
       "      <th>16</th>\n",
       "      <td>throws_R</td>\n",
       "      <td>0.032072</td>\n",
       "      <td>-0.314890</td>\n",
       "      <td>0.200790</td>\n",
       "    </tr>\n",
       "    <tr>\n",
       "      <th>17</th>\n",
       "      <td>DPf</td>\n",
       "      <td>0.000108</td>\n",
       "      <td>0.000580</td>\n",
       "      <td>-0.000732</td>\n",
       "    </tr>\n",
       "    <tr>\n",
       "      <th>18</th>\n",
       "      <td>Af</td>\n",
       "      <td>-0.000547</td>\n",
       "      <td>-0.000573</td>\n",
       "      <td>0.000828</td>\n",
       "    </tr>\n",
       "    <tr>\n",
       "      <th>19</th>\n",
       "      <td>Ef</td>\n",
       "      <td>0.006816</td>\n",
       "      <td>0.004326</td>\n",
       "      <td>-0.008161</td>\n",
       "    </tr>\n",
       "    <tr>\n",
       "      <th>20</th>\n",
       "      <td>YSLS</td>\n",
       "      <td>-0.010299</td>\n",
       "      <td>-0.020031</td>\n",
       "      <td>0.016215</td>\n",
       "    </tr>\n",
       "    <tr>\n",
       "      <th>21</th>\n",
       "      <td>G_all</td>\n",
       "      <td>0.000772</td>\n",
       "      <td>0.002790</td>\n",
       "      <td>-0.001451</td>\n",
       "    </tr>\n",
       "    <tr>\n",
       "      <th>22</th>\n",
       "      <td>1963-76_percent</td>\n",
       "      <td>-0.023859</td>\n",
       "      <td>-0.603157</td>\n",
       "      <td>0.860877</td>\n",
       "    </tr>\n",
       "    <tr>\n",
       "      <th>23</th>\n",
       "      <td>1993-2009_percent</td>\n",
       "      <td>0.175258</td>\n",
       "      <td>-0.383599</td>\n",
       "      <td>-1.017759</td>\n",
       "    </tr>\n",
       "    <tr>\n",
       "      <th>24</th>\n",
       "      <td>1946-62_percent</td>\n",
       "      <td>-0.219160</td>\n",
       "      <td>0.189032</td>\n",
       "      <td>1.568648</td>\n",
       "    </tr>\n",
       "    <tr>\n",
       "      <th>25</th>\n",
       "      <td>G_1b_percent</td>\n",
       "      <td>0.011476</td>\n",
       "      <td>-0.029850</td>\n",
       "      <td>-0.658721</td>\n",
       "    </tr>\n",
       "    <tr>\n",
       "      <th>26</th>\n",
       "      <td>1942-45_percent</td>\n",
       "      <td>-0.097912</td>\n",
       "      <td>0.720675</td>\n",
       "      <td>-1.856186</td>\n",
       "    </tr>\n",
       "    <tr>\n",
       "      <th>27</th>\n",
       "      <td>G_dh_percent</td>\n",
       "      <td>0.018234</td>\n",
       "      <td>-0.134384</td>\n",
       "      <td>-0.384533</td>\n",
       "    </tr>\n",
       "    <tr>\n",
       "      <th>28</th>\n",
       "      <td>1920-41_percent</td>\n",
       "      <td>0.196641</td>\n",
       "      <td>0.113496</td>\n",
       "      <td>-0.361697</td>\n",
       "    </tr>\n",
       "    <tr>\n",
       "      <th>29</th>\n",
       "      <td>G_ss_percent</td>\n",
       "      <td>0.090656</td>\n",
       "      <td>-0.515487</td>\n",
       "      <td>-0.698548</td>\n",
       "    </tr>\n",
       "    <tr>\n",
       "      <th>30</th>\n",
       "      <td>post2009_percent</td>\n",
       "      <td>0.007648</td>\n",
       "      <td>0.271886</td>\n",
       "      <td>-0.702921</td>\n",
       "    </tr>\n",
       "    <tr>\n",
       "      <th>31</th>\n",
       "      <td>1977-92_percent</td>\n",
       "      <td>-0.000731</td>\n",
       "      <td>-0.435352</td>\n",
       "      <td>0.837038</td>\n",
       "    </tr>\n",
       "    <tr>\n",
       "      <th>32</th>\n",
       "      <td>G_2b_percent</td>\n",
       "      <td>0.042464</td>\n",
       "      <td>0.344421</td>\n",
       "      <td>0.129718</td>\n",
       "    </tr>\n",
       "    <tr>\n",
       "      <th>33</th>\n",
       "      <td>G_3b_percent</td>\n",
       "      <td>0.057245</td>\n",
       "      <td>0.449318</td>\n",
       "      <td>-2.562527</td>\n",
       "    </tr>\n",
       "    <tr>\n",
       "      <th>34</th>\n",
       "      <td>G_of_percent</td>\n",
       "      <td>0.184388</td>\n",
       "      <td>0.461861</td>\n",
       "      <td>-2.495264</td>\n",
       "    </tr>\n",
       "    <tr>\n",
       "      <th>35</th>\n",
       "      <td>debut_age</td>\n",
       "      <td>-0.017654</td>\n",
       "      <td>-0.012808</td>\n",
       "      <td>-0.094544</td>\n",
       "    </tr>\n",
       "    <tr>\n",
       "      <th>36</th>\n",
       "      <td>weight</td>\n",
       "      <td>-0.019085</td>\n",
       "      <td>0.009515</td>\n",
       "      <td>0.018809</td>\n",
       "    </tr>\n",
       "    <tr>\n",
       "      <th>37</th>\n",
       "      <td>height</td>\n",
       "      <td>0.120482</td>\n",
       "      <td>-0.021574</td>\n",
       "      <td>-0.135587</td>\n",
       "    </tr>\n",
       "  </tbody>\n",
       "</table>\n",
       "</div>"
      ],
      "text/plain": [
       "                    0         0         1         2\n",
       "0        Years_Played -0.490416 -0.079872  0.607213\n",
       "1                   H  0.000205 -0.008537  0.005883\n",
       "2                  BB  0.001836 -0.000481 -0.003506\n",
       "3                  HR -0.004724 -0.011899  0.002512\n",
       "4                 AVE  0.062368  0.079246 -0.599137\n",
       "5                 OBP  0.089011 -0.026282 -0.747654\n",
       "6        Slug_Percent  0.105327  0.210283 -0.457512\n",
       "7                 OPS  0.194338  0.184001 -1.205167\n",
       "8                 RBI -0.003301 -0.002277  0.005186\n",
       "9                   R -0.005840  0.001092  0.015310\n",
       "10                 SB  0.001799 -0.004825 -0.001301\n",
       "11                 2B  0.017119  0.004278 -0.016389\n",
       "12                 3B  0.005049  0.002960 -0.012248\n",
       "13                 AB -0.000344  0.002205 -0.002697\n",
       "14                 SO  0.000285  0.001136 -0.001557\n",
       "15             bats_R -0.132136  0.194931  0.007205\n",
       "16           throws_R  0.032072 -0.314890  0.200790\n",
       "17                DPf  0.000108  0.000580 -0.000732\n",
       "18                 Af -0.000547 -0.000573  0.000828\n",
       "19                 Ef  0.006816  0.004326 -0.008161\n",
       "20               YSLS -0.010299 -0.020031  0.016215\n",
       "21              G_all  0.000772  0.002790 -0.001451\n",
       "22    1963-76_percent -0.023859 -0.603157  0.860877\n",
       "23  1993-2009_percent  0.175258 -0.383599 -1.017759\n",
       "24    1946-62_percent -0.219160  0.189032  1.568648\n",
       "25       G_1b_percent  0.011476 -0.029850 -0.658721\n",
       "26    1942-45_percent -0.097912  0.720675 -1.856186\n",
       "27       G_dh_percent  0.018234 -0.134384 -0.384533\n",
       "28    1920-41_percent  0.196641  0.113496 -0.361697\n",
       "29       G_ss_percent  0.090656 -0.515487 -0.698548\n",
       "30   post2009_percent  0.007648  0.271886 -0.702921\n",
       "31    1977-92_percent -0.000731 -0.435352  0.837038\n",
       "32       G_2b_percent  0.042464  0.344421  0.129718\n",
       "33       G_3b_percent  0.057245  0.449318 -2.562527\n",
       "34       G_of_percent  0.184388  0.461861 -2.495264\n",
       "35          debut_age -0.017654 -0.012808 -0.094544\n",
       "36             weight -0.019085  0.009515  0.018809\n",
       "37             height  0.120482 -0.021574 -0.135587"
      ]
     },
     "execution_count": 78,
     "metadata": {},
     "output_type": "execute_result"
    }
   ],
   "source": [
    "coefficients = pd.concat([pd.DataFrame(features.columns),pd.DataFrame(np.transpose(logreg.coef_))], axis = 1)\n",
    "coefficients"
   ]
  },
  {
   "cell_type": "markdown",
   "metadata": {},
   "source": [
    "# Random Forest"
   ]
  },
  {
   "cell_type": "code",
   "execution_count": 79,
   "metadata": {},
   "outputs": [
    {
     "data": {
      "text/plain": [
       "GridSearchCV(cv=5, error_score='raise-deprecating',\n",
       "       estimator=RandomForestClassifier(bootstrap=True, class_weight=None, criterion='gini',\n",
       "            max_depth=None, max_features='auto', max_leaf_nodes=None,\n",
       "            min_impurity_decrease=0.0, min_impurity_split=None,\n",
       "            min_samples_leaf=1, min_samples_split=2,\n",
       "            min_weight_fraction_leaf=0.0, n_estimators=100, n_jobs=None,\n",
       "            oob_score=False, random_state=None, verbose=0,\n",
       "            warm_start=False),\n",
       "       fit_params=None, iid='warn', n_jobs=None,\n",
       "       param_grid={'max_features': [5, 9, 15], 'max_depth': [8, 13, 15]},\n",
       "       pre_dispatch='2*n_jobs', refit=True, return_train_score='warn',\n",
       "       scoring=None, verbose=0)"
      ]
     },
     "execution_count": 79,
     "metadata": {},
     "output_type": "execute_result"
    }
   ],
   "source": [
    "# random forest cross validation for parameter tuning\n",
    "param_grid = {\n",
    "                 'max_features': [5, 9, 15],\n",
    "                 'max_depth': [8, 13, 15]\n",
    "             }\n",
    "\n",
    "clf = RandomForestClassifier(n_estimators=100) #Initialize with whatever parameters you want to\n",
    "\n",
    "grid_clf = GridSearchCV(clf, param_grid, cv=5)\n",
    "grid_clf.fit(X_train, y_train)"
   ]
  },
  {
   "cell_type": "code",
   "execution_count": 80,
   "metadata": {},
   "outputs": [
    {
     "data": {
      "text/plain": [
       "RandomForestClassifier(bootstrap=True, class_weight=None, criterion='gini',\n",
       "            max_depth=15, max_features=5, max_leaf_nodes=None,\n",
       "            min_impurity_decrease=0.0, min_impurity_split=None,\n",
       "            min_samples_leaf=1, min_samples_split=2,\n",
       "            min_weight_fraction_leaf=0.0, n_estimators=100, n_jobs=None,\n",
       "            oob_score=False, random_state=None, verbose=0,\n",
       "            warm_start=False)"
      ]
     },
     "execution_count": 80,
     "metadata": {},
     "output_type": "execute_result"
    }
   ],
   "source": [
    "grid_clf. best_estimator_"
   ]
  },
  {
   "cell_type": "code",
   "execution_count": 81,
   "metadata": {},
   "outputs": [
    {
     "data": {
      "text/plain": [
       "{'max_depth': 15, 'max_features': 5}"
      ]
     },
     "execution_count": 81,
     "metadata": {},
     "output_type": "execute_result"
    }
   ],
   "source": [
    "grid_clf. best_params_"
   ]
  },
  {
   "cell_type": "code",
   "execution_count": 82,
   "metadata": {},
   "outputs": [
    {
     "data": {
      "text/plain": [
       "Index(['Years_Played', 'H', 'BB', 'HR', 'AVE', 'OBP', 'Slug_Percent', 'OPS',\n",
       "       'RBI', 'R', 'SB', '2B', '3B', 'AB', 'SO', 'bats_R', 'throws_R', 'DPf',\n",
       "       'Af', 'Ef', 'YSLS', 'G_all', '1963-76_percent', '1993-2009_percent',\n",
       "       '1946-62_percent', 'G_1b_percent', '1942-45_percent', 'G_dh_percent',\n",
       "       '1920-41_percent', 'G_ss_percent', 'post2009_percent',\n",
       "       '1977-92_percent', 'G_2b_percent', 'G_3b_percent', 'G_of_percent',\n",
       "       'debut_age', 'weight', 'height'],\n",
       "      dtype='object')"
      ]
     },
     "execution_count": 82,
     "metadata": {},
     "output_type": "execute_result"
    }
   ],
   "source": [
    "# variables used\n",
    "X_train.columns"
   ]
  },
  {
   "cell_type": "code",
   "execution_count": 83,
   "metadata": {
    "collapsed": true
   },
   "outputs": [],
   "source": [
    "X_train = X_train[['Years_Played', 'H', 'BB', 'HR', 'AVE', 'OBP', 'Slug_Percent', 'OPS',\n",
    "       'RBI', 'R', 'SB', '2B', '3B', 'AB', 'SO', 'DPf',\n",
    "       'Af', 'Ef', 'YSLS', 'G_all', 'debut_age', 'weight', 'height']] #, 'bats_R', 'throws_R', 'first_aap'\n",
    "X_test = X_test[['Years_Played', 'H', 'BB', 'HR', 'AVE', 'OBP', 'Slug_Percent', 'OPS',\n",
    "       'RBI', 'R', 'SB', '2B', '3B', 'AB', 'SO', 'DPf',\n",
    "       'Af', 'Ef', 'YSLS', 'G_all', 'debut_age', 'weight', 'height']] # , 'bats_R', 'throws_R', 'first_aap'"
   ]
  },
  {
   "cell_type": "code",
   "execution_count": 84,
   "metadata": {},
   "outputs": [
    {
     "name": "stdout",
     "output_type": "stream",
     "text": [
      "23\n",
      "Index(['Years_Played', 'H', 'BB', 'HR', 'AVE', 'OBP', 'Slug_Percent', 'OPS',\n",
      "       'RBI', 'R', 'SB', '2B', '3B', 'AB', 'SO', 'DPf', 'Af', 'Ef', 'YSLS',\n",
      "       'G_all', 'debut_age', 'weight', 'height'],\n",
      "      dtype='object')\n"
     ]
    }
   ],
   "source": [
    "print(len(X_train.columns))\n",
    "print(X_train.columns)"
   ]
  },
  {
   "cell_type": "code",
   "execution_count": 85,
   "metadata": {
    "collapsed": true
   },
   "outputs": [],
   "source": [
    "#X_train.to_csv('X_train.csv',index = False)\n",
    "#y_train.to_csv('y_train.csv', index = False)\n",
    "#X_test.to_csv('X_test.csv', index = False)\n",
    "#y_test.to_csv('y_test.csv', index = False)"
   ]
  },
  {
   "cell_type": "code",
   "execution_count": 86,
   "metadata": {},
   "outputs": [
    {
     "data": {
      "text/plain": [
       "{'max_depth': 19, 'max_features': 5}"
      ]
     },
     "execution_count": 86,
     "metadata": {},
     "output_type": "execute_result"
    }
   ],
   "source": [
    "param_grid = {\n",
    "                 'max_features': [5, 9, 13],\n",
    "                 'max_depth': [13, 16, 19]\n",
    "             }\n",
    "\n",
    "from sklearn.model_selection import GridSearchCV\n",
    "\n",
    "clf = RandomForestClassifier(n_estimators=100) #Initialize with whatever parameters you want to\n",
    "\n",
    "grid_clf = GridSearchCV(clf, param_grid, cv=3)\n",
    "grid_clf.fit(X_train, y_train)\n",
    "\n",
    "grid_clf. best_params_"
   ]
  },
  {
   "cell_type": "code",
   "execution_count": 87,
   "metadata": {
    "collapsed": true
   },
   "outputs": [],
   "source": [
    "# Random Forest - multi class - using CV parameters\n",
    "\n",
    "#Create a Gaussian Classifier\n",
    "clf=RandomForestClassifier(n_estimators=3000, max_depth = 19, max_features = 5)\n",
    "\n",
    "#Train the model using the training sets y_pred=clf.predict(X_test)\n",
    "clf.fit(X_train,y_train)\n",
    "\n",
    "y_pred=clf.predict(X_test)"
   ]
  },
  {
   "cell_type": "code",
   "execution_count": 88,
   "metadata": {},
   "outputs": [
    {
     "name": "stdout",
     "output_type": "stream",
     "text": [
      "              precision    recall  f1-score   support\n",
      "\n",
      "         0.0       0.96      0.93      0.95      2384\n",
      "         1.0       0.64      0.77      0.70       401\n",
      "         2.0       0.80      0.53      0.63        38\n",
      "\n",
      "   micro avg       0.91      0.91      0.91      2823\n",
      "   macro avg       0.80      0.74      0.76      2823\n",
      "weighted avg       0.91      0.91      0.91      2823\n",
      "\n"
     ]
    }
   ],
   "source": [
    "# recall precision f1\n",
    "print(classification_report(y_test, y_pred))"
   ]
  },
  {
   "cell_type": "code",
   "execution_count": 89,
   "metadata": {},
   "outputs": [
    {
     "name": "stdout",
     "output_type": "stream",
     "text": [
      "Accuracy of random forest classifier on test set: 0.91\n"
     ]
    }
   ],
   "source": [
    "print('Accuracy of random forest classifier on test set: {:.2f}'.format(clf.score(X_test, y_test)))"
   ]
  },
  {
   "cell_type": "code",
   "execution_count": 90,
   "metadata": {},
   "outputs": [
    {
     "data": {
      "text/html": [
       "<div>\n",
       "<style scoped>\n",
       "    .dataframe tbody tr th:only-of-type {\n",
       "        vertical-align: middle;\n",
       "    }\n",
       "\n",
       "    .dataframe tbody tr th {\n",
       "        vertical-align: top;\n",
       "    }\n",
       "\n",
       "    .dataframe thead th {\n",
       "        text-align: right;\n",
       "    }\n",
       "</style>\n",
       "<table border=\"1\" class=\"dataframe\">\n",
       "  <thead>\n",
       "    <tr style=\"text-align: right;\">\n",
       "      <th></th>\n",
       "      <th>variable_name</th>\n",
       "      <th>importance</th>\n",
       "    </tr>\n",
       "  </thead>\n",
       "  <tbody>\n",
       "    <tr>\n",
       "      <th>0</th>\n",
       "      <td>Years_Played</td>\n",
       "      <td>0.166261</td>\n",
       "    </tr>\n",
       "    <tr>\n",
       "      <th>19</th>\n",
       "      <td>G_all</td>\n",
       "      <td>0.114071</td>\n",
       "    </tr>\n",
       "    <tr>\n",
       "      <th>16</th>\n",
       "      <td>Af</td>\n",
       "      <td>0.079004</td>\n",
       "    </tr>\n",
       "    <tr>\n",
       "      <th>9</th>\n",
       "      <td>R</td>\n",
       "      <td>0.071586</td>\n",
       "    </tr>\n",
       "    <tr>\n",
       "      <th>1</th>\n",
       "      <td>H</td>\n",
       "      <td>0.067873</td>\n",
       "    </tr>\n",
       "    <tr>\n",
       "      <th>14</th>\n",
       "      <td>SO</td>\n",
       "      <td>0.053953</td>\n",
       "    </tr>\n",
       "    <tr>\n",
       "      <th>13</th>\n",
       "      <td>AB</td>\n",
       "      <td>0.049196</td>\n",
       "    </tr>\n",
       "    <tr>\n",
       "      <th>8</th>\n",
       "      <td>RBI</td>\n",
       "      <td>0.046150</td>\n",
       "    </tr>\n",
       "    <tr>\n",
       "      <th>7</th>\n",
       "      <td>OPS</td>\n",
       "      <td>0.043977</td>\n",
       "    </tr>\n",
       "    <tr>\n",
       "      <th>15</th>\n",
       "      <td>DPf</td>\n",
       "      <td>0.042694</td>\n",
       "    </tr>\n",
       "    <tr>\n",
       "      <th>5</th>\n",
       "      <td>OBP</td>\n",
       "      <td>0.034056</td>\n",
       "    </tr>\n",
       "    <tr>\n",
       "      <th>17</th>\n",
       "      <td>Ef</td>\n",
       "      <td>0.033321</td>\n",
       "    </tr>\n",
       "    <tr>\n",
       "      <th>6</th>\n",
       "      <td>Slug_Percent</td>\n",
       "      <td>0.030787</td>\n",
       "    </tr>\n",
       "    <tr>\n",
       "      <th>11</th>\n",
       "      <td>2B</td>\n",
       "      <td>0.025267</td>\n",
       "    </tr>\n",
       "    <tr>\n",
       "      <th>4</th>\n",
       "      <td>AVE</td>\n",
       "      <td>0.025242</td>\n",
       "    </tr>\n",
       "    <tr>\n",
       "      <th>2</th>\n",
       "      <td>BB</td>\n",
       "      <td>0.024560</td>\n",
       "    </tr>\n",
       "    <tr>\n",
       "      <th>18</th>\n",
       "      <td>YSLS</td>\n",
       "      <td>0.022437</td>\n",
       "    </tr>\n",
       "    <tr>\n",
       "      <th>21</th>\n",
       "      <td>weight</td>\n",
       "      <td>0.013767</td>\n",
       "    </tr>\n",
       "    <tr>\n",
       "      <th>3</th>\n",
       "      <td>HR</td>\n",
       "      <td>0.013194</td>\n",
       "    </tr>\n",
       "    <tr>\n",
       "      <th>10</th>\n",
       "      <td>SB</td>\n",
       "      <td>0.012058</td>\n",
       "    </tr>\n",
       "    <tr>\n",
       "      <th>20</th>\n",
       "      <td>debut_age</td>\n",
       "      <td>0.012048</td>\n",
       "    </tr>\n",
       "    <tr>\n",
       "      <th>22</th>\n",
       "      <td>height</td>\n",
       "      <td>0.009456</td>\n",
       "    </tr>\n",
       "    <tr>\n",
       "      <th>12</th>\n",
       "      <td>3B</td>\n",
       "      <td>0.009043</td>\n",
       "    </tr>\n",
       "  </tbody>\n",
       "</table>\n",
       "</div>"
      ],
      "text/plain": [
       "   variable_name  importance\n",
       "0   Years_Played    0.166261\n",
       "19         G_all    0.114071\n",
       "16            Af    0.079004\n",
       "9              R    0.071586\n",
       "1              H    0.067873\n",
       "14            SO    0.053953\n",
       "13            AB    0.049196\n",
       "8            RBI    0.046150\n",
       "7            OPS    0.043977\n",
       "15           DPf    0.042694\n",
       "5            OBP    0.034056\n",
       "17            Ef    0.033321\n",
       "6   Slug_Percent    0.030787\n",
       "11            2B    0.025267\n",
       "4            AVE    0.025242\n",
       "2             BB    0.024560\n",
       "18          YSLS    0.022437\n",
       "21        weight    0.013767\n",
       "3             HR    0.013194\n",
       "10            SB    0.012058\n",
       "20     debut_age    0.012048\n",
       "22        height    0.009456\n",
       "12            3B    0.009043"
      ]
     },
     "execution_count": 90,
     "metadata": {},
     "output_type": "execute_result"
    }
   ],
   "source": [
    "# important variables\n",
    "importances = clf.feature_importances_\n",
    "\n",
    "coefficients = pd.concat([pd.DataFrame(X_train.columns),pd.DataFrame(np.transpose(importances))], axis = 1)\n",
    "coefficients.columns = ['variable_name','importance']\n",
    "coefficients= coefficients.sort_values(by=['importance'], ascending = False)\n",
    "coefficients"
   ]
  },
  {
   "cell_type": "markdown",
   "metadata": {},
   "source": [
    "# predicting 2000 - 2017"
   ]
  },
  {
   "cell_type": "code",
   "execution_count": 91,
   "metadata": {
    "collapsed": true
   },
   "outputs": [],
   "source": [
    "# predicting players from 2000 - 2017 using random forest\n",
    "# keeping players between 1920 to 2000\n",
    "df__20002017 = df_original.copy()\n",
    "df__20002017 = df__20002017[df__20002017.debutYear.between(2001, 2017, inclusive = True)]"
   ]
  },
  {
   "cell_type": "code",
   "execution_count": 92,
   "metadata": {},
   "outputs": [
    {
     "data": {
      "text/plain": [
       "(3758, 106)"
      ]
     },
     "execution_count": 92,
     "metadata": {},
     "output_type": "execute_result"
    }
   ],
   "source": [
    "df__20002017.shape"
   ]
  },
  {
   "cell_type": "code",
   "execution_count": 93,
   "metadata": {
    "collapsed": true
   },
   "outputs": [],
   "source": [
    "df_20002017 = df__20002017[['Years_Played', 'H', 'BB', 'HR', 'AVE', 'OBP', 'Slug_Percent', 'OPS',\n",
    "       'RBI', 'R', 'SB', '2B', '3B', 'AB', 'SO', 'DPf',\n",
    "       'Af', 'Ef', 'YSLS', 'G_all', 'debut_age', 'weight', 'height', 'debutYear', 'total_award']]"
   ]
  },
  {
   "cell_type": "code",
   "execution_count": 94,
   "metadata": {},
   "outputs": [
    {
     "data": {
      "text/plain": [
       "(2962, 25)"
      ]
     },
     "execution_count": 94,
     "metadata": {},
     "output_type": "execute_result"
    }
   ],
   "source": [
    "x = df_20002017.copy()\n",
    "df_20002017 = df_20002017.dropna()\n",
    "\n",
    "df_20002017.shape"
   ]
  },
  {
   "cell_type": "code",
   "execution_count": 95,
   "metadata": {},
   "outputs": [
    {
     "data": {
      "text/plain": [
       "Index(['Years_Played', 'H', 'BB', 'HR', 'AVE', 'OBP', 'Slug_Percent', 'OPS',\n",
       "       'RBI', 'R', 'SB', '2B', '3B', 'AB', 'SO', 'DPf', 'Af', 'Ef', 'YSLS',\n",
       "       'G_all', 'debut_age', 'weight', 'height', 'debutYear', 'total_award'],\n",
       "      dtype='object')"
      ]
     },
     "execution_count": 95,
     "metadata": {},
     "output_type": "execute_result"
    }
   ],
   "source": [
    "df_20002017.columns"
   ]
  },
  {
   "cell_type": "code",
   "execution_count": 96,
   "metadata": {
    "collapsed": true
   },
   "outputs": [],
   "source": [
    "x_20002017 = df_20002017[['Years_Played', 'H', 'BB', 'HR', 'AVE', 'OBP', 'Slug_Percent', 'OPS',\n",
    "       'RBI', 'R', 'SB', '2B', '3B', 'AB', 'SO', 'DPf',\n",
    "       'Af', 'Ef', 'YSLS', 'G_all', 'debut_age', 'weight', 'height']]"
   ]
  },
  {
   "cell_type": "code",
   "execution_count": 97,
   "metadata": {},
   "outputs": [
    {
     "name": "stderr",
     "output_type": "stream",
     "text": [
      "/Users/wx3land/anaconda3/lib/python3.6/site-packages/pandas/core/generic.py:7620: SettingWithCopyWarning: \n",
      "A value is trying to be set on a copy of a slice from a DataFrame\n",
      "\n",
      "See the caveats in the documentation: http://pandas.pydata.org/pandas-docs/stable/indexing.html#indexing-view-versus-copy\n",
      "  self._update_inplace(new_data)\n",
      "/Users/wx3land/anaconda3/lib/python3.6/site-packages/IPython/core/interactiveshell.py:2963: SettingWithCopyWarning: \n",
      "A value is trying to be set on a copy of a slice from a DataFrame\n",
      "\n",
      "See the caveats in the documentation: http://pandas.pydata.org/pandas-docs/stable/indexing.html#indexing-view-versus-copy\n",
      "  exec(code_obj, self.user_global_ns, self.user_ns)\n"
     ]
    },
    {
     "data": {
      "text/plain": [
       "0.0    2568\n",
       "1.0     391\n",
       "2.0       3\n",
       "Name: total_award, dtype: int64"
      ]
     },
     "execution_count": 97,
     "metadata": {},
     "output_type": "execute_result"
    }
   ],
   "source": [
    "y_20002017 = df_20002017[['total_award']]\n",
    "\n",
    "y_20002017.total_award[y_20002017.total_award < 1] =0\n",
    "y_20002017.total_award[y_20002017.total_award.between(2,20, inclusive = True)] =1\n",
    "y_20002017.total_award[y_20002017.total_award > 20] =2\n",
    "\n",
    "y_20002017.total_award.value_counts()"
   ]
  },
  {
   "cell_type": "code",
   "execution_count": 106,
   "metadata": {},
   "outputs": [
    {
     "data": {
      "text/plain": [
       "0.0    2766\n",
       "1.0     196\n",
       "Name: total_award, dtype: int64"
      ]
     },
     "execution_count": 106,
     "metadata": {},
     "output_type": "execute_result"
    }
   ],
   "source": [
    "yy_pred=clf.predict(x_20002017)\n",
    "yy_pred = pd.DataFrame(yy_pred)\n",
    "yy_pred.columns = ['total_award']\n",
    "yy_pred.total_award.value_counts()"
   ]
  },
  {
   "cell_type": "code",
   "execution_count": 109,
   "metadata": {},
   "outputs": [
    {
     "name": "stdout",
     "output_type": "stream",
     "text": [
      "              precision    recall  f1-score   support\n",
      "\n",
      "         0.0       0.91      0.98      0.94      2568\n",
      "         1.0       0.74      0.37      0.49       391\n",
      "         2.0       0.00      0.00      0.00         3\n",
      "\n",
      "   micro avg       0.90      0.90      0.90      2962\n",
      "   macro avg       0.55      0.45      0.48      2962\n",
      "weighted avg       0.89      0.90      0.88      2962\n",
      "\n"
     ]
    },
    {
     "name": "stderr",
     "output_type": "stream",
     "text": [
      "/Users/wx3land/anaconda3/lib/python3.6/site-packages/sklearn/metrics/classification.py:1143: UndefinedMetricWarning: Precision and F-score are ill-defined and being set to 0.0 in labels with no predicted samples.\n",
      "  'precision', 'predicted', average, warn_for)\n",
      "/Users/wx3land/anaconda3/lib/python3.6/site-packages/sklearn/metrics/classification.py:1143: UndefinedMetricWarning: Precision and F-score are ill-defined and being set to 0.0 in labels with no predicted samples.\n",
      "  'precision', 'predicted', average, warn_for)\n",
      "/Users/wx3land/anaconda3/lib/python3.6/site-packages/sklearn/metrics/classification.py:1143: UndefinedMetricWarning: Precision and F-score are ill-defined and being set to 0.0 in labels with no predicted samples.\n",
      "  'precision', 'predicted', average, warn_for)\n"
     ]
    }
   ],
   "source": [
    "print(classification_report(y_20002017, yy_pred.total_award))"
   ]
  },
  {
   "cell_type": "code",
   "execution_count": 139,
   "metadata": {
    "collapsed": true
   },
   "outputs": [],
   "source": [
    "# export best model result - three-class classification with random forest\n",
    "from sklearn.metrics import classification_report\n",
    "from  sklearn.metrics import precision_recall_fscore_support\n",
    "def pandas_classification_report(y_true, y_pred):\n",
    "    metrics_summary = precision_recall_fscore_support(\n",
    "            y_true=y_true, \n",
    "            y_pred=y_pred)\n",
    "\n",
    "    avg = list(precision_recall_fscore_support(\n",
    "            y_true=y_true, \n",
    "            y_pred=y_pred,\n",
    "            average='weighted'))\n",
    "\n",
    "    metrics_sum_index = ['precision', 'recall', 'f1-score', 'support']\n",
    "    class_report_df = pd.DataFrame(\n",
    "        list(metrics_summary),\n",
    "        index=metrics_sum_index)\n",
    "\n",
    "    support = class_report_df.loc['support']\n",
    "    total = support.sum() \n",
    "    avg[-1] = total\n",
    "\n",
    "    class_report_df['avg / total'] = avg\n",
    "\n",
    "    return class_report_df.T\n"
   ]
  },
  {
   "cell_type": "code",
   "execution_count": 144,
   "metadata": {},
   "outputs": [
    {
     "name": "stderr",
     "output_type": "stream",
     "text": [
      "/Users/wx3land/anaconda3/lib/python3.6/site-packages/sklearn/metrics/classification.py:1143: UndefinedMetricWarning: Precision and F-score are ill-defined and being set to 0.0 in labels with no predicted samples.\n",
      "  'precision', 'predicted', average, warn_for)\n",
      "/Users/wx3land/anaconda3/lib/python3.6/site-packages/sklearn/metrics/classification.py:1143: UndefinedMetricWarning: Precision and F-score are ill-defined and being set to 0.0 in labels with no predicted samples.\n",
      "  'precision', 'predicted', average, warn_for)\n"
     ]
    }
   ],
   "source": [
    "df_class_report = pandas_classification_report(y_true=y_20002017, y_pred=yy_pred.total_award)\n",
    "df_class_report.to_csv('../output/Award_RFClassificationReport_award_prediction.csv',  sep=',', index = False)"
   ]
  },
  {
   "cell_type": "code",
   "execution_count": null,
   "metadata": {
    "collapsed": true
   },
   "outputs": [],
   "source": []
  }
 ],
 "metadata": {
  "kernelspec": {
   "display_name": "Python 3",
   "language": "python",
   "name": "python3"
  },
  "language_info": {
   "codemirror_mode": {
    "name": "ipython",
    "version": 3
   },
   "file_extension": ".py",
   "mimetype": "text/x-python",
   "name": "python",
   "nbconvert_exporter": "python",
   "pygments_lexer": "ipython3",
   "version": "3.6.1"
  }
 },
 "nbformat": 4,
 "nbformat_minor": 2
}
